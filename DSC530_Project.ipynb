{
 "cells": [
  {
   "cell_type": "code",
   "execution_count": 1,
   "metadata": {},
   "outputs": [],
   "source": [
    "# Import pandas, numpy, and sys\n",
    "\n",
    "import sys\n",
    "import pandas as pd\n",
    "import numpy as np\n",
    "import math\n",
    "import thinkstats2\n",
    "import thinkplot\n",
    "import statistics\n",
    "import statsmodels.formula.api as smf\n",
    "from scipy.stats import mode as scimode"
   ]
  },
  {
   "cell_type": "code",
   "execution_count": 2,
   "metadata": {},
   "outputs": [],
   "source": [
    "# Import the csv file into a pandas dataframe named tempdf\n",
    "\n",
    "tempdf = pd.read_csv('C:/Users/Christine/Documents/Bellevue/DSC_530/Project/temperatures.csv')"
   ]
  },
  {
   "cell_type": "code",
   "execution_count": 3,
   "metadata": {},
   "outputs": [
    {
     "name": "stdout",
     "output_type": "stream",
     "text": [
      "<class 'pandas.core.frame.DataFrame'>\n"
     ]
    },
    {
     "data": {
      "text/html": [
       "<div>\n",
       "<style scoped>\n",
       "    .dataframe tbody tr th:only-of-type {\n",
       "        vertical-align: middle;\n",
       "    }\n",
       "\n",
       "    .dataframe tbody tr th {\n",
       "        vertical-align: top;\n",
       "    }\n",
       "\n",
       "    .dataframe thead th {\n",
       "        text-align: right;\n",
       "    }\n",
       "</style>\n",
       "<table border=\"1\" class=\"dataframe\">\n",
       "  <thead>\n",
       "    <tr style=\"text-align: right;\">\n",
       "      <th></th>\n",
       "      <th>Year</th>\n",
       "      <th>Punxsutawney Phil</th>\n",
       "      <th>February Average Temperature</th>\n",
       "      <th>February Average Temperature (Northeast)</th>\n",
       "      <th>February Average Temperature (Midwest)</th>\n",
       "      <th>February Average Temperature (Pennsylvania)</th>\n",
       "      <th>March Average Temperature</th>\n",
       "      <th>March Average Temperature (Northeast)</th>\n",
       "      <th>March Average Temperature (Midwest)</th>\n",
       "      <th>March Average Temperature (Pennsylvania)</th>\n",
       "    </tr>\n",
       "  </thead>\n",
       "  <tbody>\n",
       "    <tr>\n",
       "      <th>0</th>\n",
       "      <td>1886</td>\n",
       "      <td>No Record</td>\n",
       "      <td>NaN</td>\n",
       "      <td>NaN</td>\n",
       "      <td>NaN</td>\n",
       "      <td>NaN</td>\n",
       "      <td>NaN</td>\n",
       "      <td>NaN</td>\n",
       "      <td>NaN</td>\n",
       "      <td>NaN</td>\n",
       "    </tr>\n",
       "    <tr>\n",
       "      <th>1</th>\n",
       "      <td>1887</td>\n",
       "      <td>Full Shadow</td>\n",
       "      <td>NaN</td>\n",
       "      <td>NaN</td>\n",
       "      <td>NaN</td>\n",
       "      <td>NaN</td>\n",
       "      <td>NaN</td>\n",
       "      <td>NaN</td>\n",
       "      <td>NaN</td>\n",
       "      <td>NaN</td>\n",
       "    </tr>\n",
       "    <tr>\n",
       "      <th>2</th>\n",
       "      <td>1888</td>\n",
       "      <td>Full Shadow</td>\n",
       "      <td>NaN</td>\n",
       "      <td>NaN</td>\n",
       "      <td>NaN</td>\n",
       "      <td>NaN</td>\n",
       "      <td>NaN</td>\n",
       "      <td>NaN</td>\n",
       "      <td>NaN</td>\n",
       "      <td>NaN</td>\n",
       "    </tr>\n",
       "    <tr>\n",
       "      <th>3</th>\n",
       "      <td>1889</td>\n",
       "      <td>No Record</td>\n",
       "      <td>NaN</td>\n",
       "      <td>NaN</td>\n",
       "      <td>NaN</td>\n",
       "      <td>NaN</td>\n",
       "      <td>NaN</td>\n",
       "      <td>NaN</td>\n",
       "      <td>NaN</td>\n",
       "      <td>NaN</td>\n",
       "    </tr>\n",
       "    <tr>\n",
       "      <th>4</th>\n",
       "      <td>1890</td>\n",
       "      <td>No Shadow</td>\n",
       "      <td>NaN</td>\n",
       "      <td>NaN</td>\n",
       "      <td>NaN</td>\n",
       "      <td>NaN</td>\n",
       "      <td>NaN</td>\n",
       "      <td>NaN</td>\n",
       "      <td>NaN</td>\n",
       "      <td>NaN</td>\n",
       "    </tr>\n",
       "  </tbody>\n",
       "</table>\n",
       "</div>"
      ],
      "text/plain": [
       "   Year Punxsutawney Phil  February Average Temperature  \\\n",
       "0  1886         No Record                           NaN   \n",
       "1  1887       Full Shadow                           NaN   \n",
       "2  1888       Full Shadow                           NaN   \n",
       "3  1889         No Record                           NaN   \n",
       "4  1890         No Shadow                           NaN   \n",
       "\n",
       "   February Average Temperature (Northeast)  \\\n",
       "0                                       NaN   \n",
       "1                                       NaN   \n",
       "2                                       NaN   \n",
       "3                                       NaN   \n",
       "4                                       NaN   \n",
       "\n",
       "   February Average Temperature (Midwest)  \\\n",
       "0                                     NaN   \n",
       "1                                     NaN   \n",
       "2                                     NaN   \n",
       "3                                     NaN   \n",
       "4                                     NaN   \n",
       "\n",
       "   February Average Temperature (Pennsylvania)  March Average Temperature  \\\n",
       "0                                          NaN                        NaN   \n",
       "1                                          NaN                        NaN   \n",
       "2                                          NaN                        NaN   \n",
       "3                                          NaN                        NaN   \n",
       "4                                          NaN                        NaN   \n",
       "\n",
       "   March Average Temperature (Northeast)  March Average Temperature (Midwest)  \\\n",
       "0                                    NaN                                  NaN   \n",
       "1                                    NaN                                  NaN   \n",
       "2                                    NaN                                  NaN   \n",
       "3                                    NaN                                  NaN   \n",
       "4                                    NaN                                  NaN   \n",
       "\n",
       "   March Average Temperature (Pennsylvania)  \n",
       "0                                       NaN  \n",
       "1                                       NaN  \n",
       "2                                       NaN  \n",
       "3                                       NaN  \n",
       "4                                       NaN  "
      ]
     },
     "execution_count": 3,
     "metadata": {},
     "output_type": "execute_result"
    }
   ],
   "source": [
    "# Print the type and first 5 rows of the tempdf dataframe\n",
    "\n",
    "print(type(tempdf))\n",
    "\n",
    "tempdf.head()"
   ]
  },
  {
   "cell_type": "code",
   "execution_count": 4,
   "metadata": {},
   "outputs": [
    {
     "data": {
      "text/html": [
       "<div>\n",
       "<style scoped>\n",
       "    .dataframe tbody tr th:only-of-type {\n",
       "        vertical-align: middle;\n",
       "    }\n",
       "\n",
       "    .dataframe tbody tr th {\n",
       "        vertical-align: top;\n",
       "    }\n",
       "\n",
       "    .dataframe thead th {\n",
       "        text-align: right;\n",
       "    }\n",
       "</style>\n",
       "<table border=\"1\" class=\"dataframe\">\n",
       "  <thead>\n",
       "    <tr style=\"text-align: right;\">\n",
       "      <th></th>\n",
       "      <th>Year</th>\n",
       "      <th>Punxsutawney Phil</th>\n",
       "      <th>February Average Temperature</th>\n",
       "      <th>February Average Temperature (Northeast)</th>\n",
       "      <th>February Average Temperature (Midwest)</th>\n",
       "      <th>February Average Temperature (Pennsylvania)</th>\n",
       "      <th>March Average Temperature</th>\n",
       "      <th>March Average Temperature (Northeast)</th>\n",
       "      <th>March Average Temperature (Midwest)</th>\n",
       "      <th>March Average Temperature (Pennsylvania)</th>\n",
       "    </tr>\n",
       "  </thead>\n",
       "  <tbody>\n",
       "    <tr>\n",
       "      <th>127</th>\n",
       "      <td>2013</td>\n",
       "      <td>No Shadow</td>\n",
       "      <td>34.77</td>\n",
       "      <td>25.3</td>\n",
       "      <td>33.4</td>\n",
       "      <td>27.4</td>\n",
       "      <td>40.91</td>\n",
       "      <td>32.7</td>\n",
       "      <td>37.3</td>\n",
       "      <td>33.9</td>\n",
       "    </tr>\n",
       "    <tr>\n",
       "      <th>128</th>\n",
       "      <td>2014</td>\n",
       "      <td>Full Shadow</td>\n",
       "      <td>32.13</td>\n",
       "      <td>21.0</td>\n",
       "      <td>27.1</td>\n",
       "      <td>22.8</td>\n",
       "      <td>40.51</td>\n",
       "      <td>26.0</td>\n",
       "      <td>38.0</td>\n",
       "      <td>30.3</td>\n",
       "    </tr>\n",
       "    <tr>\n",
       "      <th>129</th>\n",
       "      <td>2015</td>\n",
       "      <td>Full Shadow</td>\n",
       "      <td>32.99</td>\n",
       "      <td>12.1</td>\n",
       "      <td>23.4</td>\n",
       "      <td>16.1</td>\n",
       "      <td>45.39</td>\n",
       "      <td>27.8</td>\n",
       "      <td>41.6</td>\n",
       "      <td>31.6</td>\n",
       "    </tr>\n",
       "    <tr>\n",
       "      <th>130</th>\n",
       "      <td>2016</td>\n",
       "      <td>No Shadow</td>\n",
       "      <td>39.47</td>\n",
       "      <td>28.1</td>\n",
       "      <td>36.9</td>\n",
       "      <td>30.8</td>\n",
       "      <td>47.50</td>\n",
       "      <td>38.8</td>\n",
       "      <td>49.5</td>\n",
       "      <td>43.4</td>\n",
       "    </tr>\n",
       "    <tr>\n",
       "      <th>131</th>\n",
       "      <td>1901-2000</td>\n",
       "      <td>NaN</td>\n",
       "      <td>33.82</td>\n",
       "      <td>22.5</td>\n",
       "      <td>32.9</td>\n",
       "      <td>26.5</td>\n",
       "      <td>41.50</td>\n",
       "      <td>32.3</td>\n",
       "      <td>42.4</td>\n",
       "      <td>35.9</td>\n",
       "    </tr>\n",
       "  </tbody>\n",
       "</table>\n",
       "</div>"
      ],
      "text/plain": [
       "          Year Punxsutawney Phil  February Average Temperature  \\\n",
       "127       2013         No Shadow                         34.77   \n",
       "128       2014       Full Shadow                         32.13   \n",
       "129       2015       Full Shadow                         32.99   \n",
       "130       2016         No Shadow                         39.47   \n",
       "131  1901-2000               NaN                         33.82   \n",
       "\n",
       "     February Average Temperature (Northeast)  \\\n",
       "127                                      25.3   \n",
       "128                                      21.0   \n",
       "129                                      12.1   \n",
       "130                                      28.1   \n",
       "131                                      22.5   \n",
       "\n",
       "     February Average Temperature (Midwest)  \\\n",
       "127                                    33.4   \n",
       "128                                    27.1   \n",
       "129                                    23.4   \n",
       "130                                    36.9   \n",
       "131                                    32.9   \n",
       "\n",
       "     February Average Temperature (Pennsylvania)  March Average Temperature  \\\n",
       "127                                         27.4                      40.91   \n",
       "128                                         22.8                      40.51   \n",
       "129                                         16.1                      45.39   \n",
       "130                                         30.8                      47.50   \n",
       "131                                         26.5                      41.50   \n",
       "\n",
       "     March Average Temperature (Northeast)  \\\n",
       "127                                   32.7   \n",
       "128                                   26.0   \n",
       "129                                   27.8   \n",
       "130                                   38.8   \n",
       "131                                   32.3   \n",
       "\n",
       "     March Average Temperature (Midwest)  \\\n",
       "127                                 37.3   \n",
       "128                                 38.0   \n",
       "129                                 41.6   \n",
       "130                                 49.5   \n",
       "131                                 42.4   \n",
       "\n",
       "     March Average Temperature (Pennsylvania)  \n",
       "127                                      33.9  \n",
       "128                                      30.3  \n",
       "129                                      31.6  \n",
       "130                                      43.4  \n",
       "131                                      35.9  "
      ]
     },
     "execution_count": 4,
     "metadata": {},
     "output_type": "execute_result"
    }
   ],
   "source": [
    "tempdf.tail()"
   ]
  },
  {
   "cell_type": "code",
   "execution_count": 5,
   "metadata": {},
   "outputs": [
    {
     "data": {
      "text/plain": [
       "Index(['Year', 'Punxsutawney Phil', 'February Average Temperature',\n",
       "       'February Average Temperature (Northeast)',\n",
       "       'February Average Temperature (Midwest)',\n",
       "       'February Average Temperature (Pennsylvania)',\n",
       "       'March Average Temperature', 'March Average Temperature (Northeast)',\n",
       "       'March Average Temperature (Midwest)',\n",
       "       'March Average Temperature (Pennsylvania)'],\n",
       "      dtype='object')"
      ]
     },
     "execution_count": 5,
     "metadata": {},
     "output_type": "execute_result"
    }
   ],
   "source": [
    "# List the column names\n",
    "\n",
    "tempdf.columns"
   ]
  },
  {
   "cell_type": "code",
   "execution_count": 6,
   "metadata": {},
   "outputs": [],
   "source": [
    "# Change the headers variables\n",
    "\n",
    "tempdf.rename(columns = {'Year':'year','Punxsutawney Phil':'result', 'February Average Temperature':'feb_avg', 'February Average Temperature (Northeast)':'feb_avg_ne','February Average Temperature (Midwest)':'feb_avg_mw','February Average Temperature (Pennsylvania)':'feb_avg_pn','March Average Temperature':'mar_avg', 'March Average Temperature (Northeast)':'mar_avg_ne','March Average Temperature (Midwest)':'mar_avg_mw','March Average Temperature (Pennsylvania)':'mar_avg_pn'}, inplace=True)\n"
   ]
  },
  {
   "cell_type": "code",
   "execution_count": 7,
   "metadata": {},
   "outputs": [
    {
     "data": {
      "text/html": [
       "<div>\n",
       "<style scoped>\n",
       "    .dataframe tbody tr th:only-of-type {\n",
       "        vertical-align: middle;\n",
       "    }\n",
       "\n",
       "    .dataframe tbody tr th {\n",
       "        vertical-align: top;\n",
       "    }\n",
       "\n",
       "    .dataframe thead th {\n",
       "        text-align: right;\n",
       "    }\n",
       "</style>\n",
       "<table border=\"1\" class=\"dataframe\">\n",
       "  <thead>\n",
       "    <tr style=\"text-align: right;\">\n",
       "      <th></th>\n",
       "      <th>year</th>\n",
       "      <th>result</th>\n",
       "      <th>feb_avg</th>\n",
       "      <th>feb_avg_ne</th>\n",
       "      <th>feb_avg_mw</th>\n",
       "      <th>feb_avg_pn</th>\n",
       "      <th>mar_avg</th>\n",
       "      <th>mar_avg_ne</th>\n",
       "      <th>mar_avg_mw</th>\n",
       "      <th>mar_avg_pn</th>\n",
       "    </tr>\n",
       "  </thead>\n",
       "  <tbody>\n",
       "    <tr>\n",
       "      <th>0</th>\n",
       "      <td>1886</td>\n",
       "      <td>No Record</td>\n",
       "      <td>NaN</td>\n",
       "      <td>NaN</td>\n",
       "      <td>NaN</td>\n",
       "      <td>NaN</td>\n",
       "      <td>NaN</td>\n",
       "      <td>NaN</td>\n",
       "      <td>NaN</td>\n",
       "      <td>NaN</td>\n",
       "    </tr>\n",
       "    <tr>\n",
       "      <th>1</th>\n",
       "      <td>1887</td>\n",
       "      <td>Full Shadow</td>\n",
       "      <td>NaN</td>\n",
       "      <td>NaN</td>\n",
       "      <td>NaN</td>\n",
       "      <td>NaN</td>\n",
       "      <td>NaN</td>\n",
       "      <td>NaN</td>\n",
       "      <td>NaN</td>\n",
       "      <td>NaN</td>\n",
       "    </tr>\n",
       "    <tr>\n",
       "      <th>2</th>\n",
       "      <td>1888</td>\n",
       "      <td>Full Shadow</td>\n",
       "      <td>NaN</td>\n",
       "      <td>NaN</td>\n",
       "      <td>NaN</td>\n",
       "      <td>NaN</td>\n",
       "      <td>NaN</td>\n",
       "      <td>NaN</td>\n",
       "      <td>NaN</td>\n",
       "      <td>NaN</td>\n",
       "    </tr>\n",
       "    <tr>\n",
       "      <th>3</th>\n",
       "      <td>1889</td>\n",
       "      <td>No Record</td>\n",
       "      <td>NaN</td>\n",
       "      <td>NaN</td>\n",
       "      <td>NaN</td>\n",
       "      <td>NaN</td>\n",
       "      <td>NaN</td>\n",
       "      <td>NaN</td>\n",
       "      <td>NaN</td>\n",
       "      <td>NaN</td>\n",
       "    </tr>\n",
       "    <tr>\n",
       "      <th>4</th>\n",
       "      <td>1890</td>\n",
       "      <td>No Shadow</td>\n",
       "      <td>NaN</td>\n",
       "      <td>NaN</td>\n",
       "      <td>NaN</td>\n",
       "      <td>NaN</td>\n",
       "      <td>NaN</td>\n",
       "      <td>NaN</td>\n",
       "      <td>NaN</td>\n",
       "      <td>NaN</td>\n",
       "    </tr>\n",
       "  </tbody>\n",
       "</table>\n",
       "</div>"
      ],
      "text/plain": [
       "   year       result  feb_avg  feb_avg_ne  feb_avg_mw  feb_avg_pn  mar_avg  \\\n",
       "0  1886    No Record      NaN         NaN         NaN         NaN      NaN   \n",
       "1  1887  Full Shadow      NaN         NaN         NaN         NaN      NaN   \n",
       "2  1888  Full Shadow      NaN         NaN         NaN         NaN      NaN   \n",
       "3  1889    No Record      NaN         NaN         NaN         NaN      NaN   \n",
       "4  1890    No Shadow      NaN         NaN         NaN         NaN      NaN   \n",
       "\n",
       "   mar_avg_ne  mar_avg_mw  mar_avg_pn  \n",
       "0         NaN         NaN         NaN  \n",
       "1         NaN         NaN         NaN  \n",
       "2         NaN         NaN         NaN  \n",
       "3         NaN         NaN         NaN  \n",
       "4         NaN         NaN         NaN  "
      ]
     },
     "execution_count": 7,
     "metadata": {},
     "output_type": "execute_result"
    }
   ],
   "source": [
    "# Confirm change to column names and print first 5 rows\n",
    "\n",
    "tempdf.head()"
   ]
  },
  {
   "cell_type": "code",
   "execution_count": 8,
   "metadata": {},
   "outputs": [],
   "source": [
    "# Add a variable to convert results into numeric variable\n",
    "\n",
    "def result_to_numeric(x):\n",
    "    if x == 'No Record':\n",
    "        return 4\n",
    "    if x == 'No Shadow':\n",
    "        return 0\n",
    "    if x == 'Partial Shadow':\n",
    "        return 1\n",
    "    if x == 'Full Shadow':\n",
    "        return 1\n",
    "    \n",
    "tempdf['result_num'] = tempdf['result'].apply(result_to_numeric)"
   ]
  },
  {
   "cell_type": "code",
   "execution_count": 9,
   "metadata": {},
   "outputs": [
    {
     "data": {
      "text/html": [
       "<div>\n",
       "<style scoped>\n",
       "    .dataframe tbody tr th:only-of-type {\n",
       "        vertical-align: middle;\n",
       "    }\n",
       "\n",
       "    .dataframe tbody tr th {\n",
       "        vertical-align: top;\n",
       "    }\n",
       "\n",
       "    .dataframe thead th {\n",
       "        text-align: right;\n",
       "    }\n",
       "</style>\n",
       "<table border=\"1\" class=\"dataframe\">\n",
       "  <thead>\n",
       "    <tr style=\"text-align: right;\">\n",
       "      <th></th>\n",
       "      <th>year</th>\n",
       "      <th>result</th>\n",
       "      <th>feb_avg</th>\n",
       "      <th>feb_avg_ne</th>\n",
       "      <th>feb_avg_mw</th>\n",
       "      <th>feb_avg_pn</th>\n",
       "      <th>mar_avg</th>\n",
       "      <th>mar_avg_ne</th>\n",
       "      <th>mar_avg_mw</th>\n",
       "      <th>mar_avg_pn</th>\n",
       "      <th>result_num</th>\n",
       "    </tr>\n",
       "  </thead>\n",
       "  <tbody>\n",
       "    <tr>\n",
       "      <th>0</th>\n",
       "      <td>1886</td>\n",
       "      <td>No Record</td>\n",
       "      <td>NaN</td>\n",
       "      <td>NaN</td>\n",
       "      <td>NaN</td>\n",
       "      <td>NaN</td>\n",
       "      <td>NaN</td>\n",
       "      <td>NaN</td>\n",
       "      <td>NaN</td>\n",
       "      <td>NaN</td>\n",
       "      <td>4.0</td>\n",
       "    </tr>\n",
       "    <tr>\n",
       "      <th>1</th>\n",
       "      <td>1887</td>\n",
       "      <td>Full Shadow</td>\n",
       "      <td>NaN</td>\n",
       "      <td>NaN</td>\n",
       "      <td>NaN</td>\n",
       "      <td>NaN</td>\n",
       "      <td>NaN</td>\n",
       "      <td>NaN</td>\n",
       "      <td>NaN</td>\n",
       "      <td>NaN</td>\n",
       "      <td>1.0</td>\n",
       "    </tr>\n",
       "    <tr>\n",
       "      <th>2</th>\n",
       "      <td>1888</td>\n",
       "      <td>Full Shadow</td>\n",
       "      <td>NaN</td>\n",
       "      <td>NaN</td>\n",
       "      <td>NaN</td>\n",
       "      <td>NaN</td>\n",
       "      <td>NaN</td>\n",
       "      <td>NaN</td>\n",
       "      <td>NaN</td>\n",
       "      <td>NaN</td>\n",
       "      <td>1.0</td>\n",
       "    </tr>\n",
       "    <tr>\n",
       "      <th>3</th>\n",
       "      <td>1889</td>\n",
       "      <td>No Record</td>\n",
       "      <td>NaN</td>\n",
       "      <td>NaN</td>\n",
       "      <td>NaN</td>\n",
       "      <td>NaN</td>\n",
       "      <td>NaN</td>\n",
       "      <td>NaN</td>\n",
       "      <td>NaN</td>\n",
       "      <td>NaN</td>\n",
       "      <td>4.0</td>\n",
       "    </tr>\n",
       "    <tr>\n",
       "      <th>4</th>\n",
       "      <td>1890</td>\n",
       "      <td>No Shadow</td>\n",
       "      <td>NaN</td>\n",
       "      <td>NaN</td>\n",
       "      <td>NaN</td>\n",
       "      <td>NaN</td>\n",
       "      <td>NaN</td>\n",
       "      <td>NaN</td>\n",
       "      <td>NaN</td>\n",
       "      <td>NaN</td>\n",
       "      <td>0.0</td>\n",
       "    </tr>\n",
       "  </tbody>\n",
       "</table>\n",
       "</div>"
      ],
      "text/plain": [
       "   year       result  feb_avg  feb_avg_ne  feb_avg_mw  feb_avg_pn  mar_avg  \\\n",
       "0  1886    No Record      NaN         NaN         NaN         NaN      NaN   \n",
       "1  1887  Full Shadow      NaN         NaN         NaN         NaN      NaN   \n",
       "2  1888  Full Shadow      NaN         NaN         NaN         NaN      NaN   \n",
       "3  1889    No Record      NaN         NaN         NaN         NaN      NaN   \n",
       "4  1890    No Shadow      NaN         NaN         NaN         NaN      NaN   \n",
       "\n",
       "   mar_avg_ne  mar_avg_mw  mar_avg_pn  result_num  \n",
       "0         NaN         NaN         NaN         4.0  \n",
       "1         NaN         NaN         NaN         1.0  \n",
       "2         NaN         NaN         NaN         1.0  \n",
       "3         NaN         NaN         NaN         4.0  \n",
       "4         NaN         NaN         NaN         0.0  "
      ]
     },
     "execution_count": 9,
     "metadata": {},
     "output_type": "execute_result"
    }
   ],
   "source": [
    "# Confirm addition of variable and print first 5 rows\n",
    "\n",
    "tempdf.head()"
   ]
  },
  {
   "cell_type": "code",
   "execution_count": 10,
   "metadata": {},
   "outputs": [],
   "source": [
    "# Create subset to omit NaN and No record variables\n",
    "\n",
    "subtemp = tempdf[tempdf['result_num'] != 4.0]\n",
    "temp = subtemp.dropna()"
   ]
  },
  {
   "cell_type": "code",
   "execution_count": 11,
   "metadata": {},
   "outputs": [
    {
     "data": {
      "text/html": [
       "<div>\n",
       "<style scoped>\n",
       "    .dataframe tbody tr th:only-of-type {\n",
       "        vertical-align: middle;\n",
       "    }\n",
       "\n",
       "    .dataframe tbody tr th {\n",
       "        vertical-align: top;\n",
       "    }\n",
       "\n",
       "    .dataframe thead th {\n",
       "        text-align: right;\n",
       "    }\n",
       "</style>\n",
       "<table border=\"1\" class=\"dataframe\">\n",
       "  <thead>\n",
       "    <tr style=\"text-align: right;\">\n",
       "      <th></th>\n",
       "      <th>year</th>\n",
       "      <th>result</th>\n",
       "      <th>feb_avg</th>\n",
       "      <th>feb_avg_ne</th>\n",
       "      <th>feb_avg_mw</th>\n",
       "      <th>feb_avg_pn</th>\n",
       "      <th>mar_avg</th>\n",
       "      <th>mar_avg_ne</th>\n",
       "      <th>mar_avg_mw</th>\n",
       "      <th>mar_avg_pn</th>\n",
       "      <th>result_num</th>\n",
       "    </tr>\n",
       "  </thead>\n",
       "  <tbody>\n",
       "    <tr>\n",
       "      <th>12</th>\n",
       "      <td>1898</td>\n",
       "      <td>Full Shadow</td>\n",
       "      <td>35.37</td>\n",
       "      <td>24.8</td>\n",
       "      <td>33.3</td>\n",
       "      <td>26.7</td>\n",
       "      <td>41.05</td>\n",
       "      <td>38.0</td>\n",
       "      <td>46.0</td>\n",
       "      <td>42.0</td>\n",
       "      <td>1.0</td>\n",
       "    </tr>\n",
       "    <tr>\n",
       "      <th>14</th>\n",
       "      <td>1900</td>\n",
       "      <td>Full Shadow</td>\n",
       "      <td>30.76</td>\n",
       "      <td>21.4</td>\n",
       "      <td>27.5</td>\n",
       "      <td>24.1</td>\n",
       "      <td>41.27</td>\n",
       "      <td>26.0</td>\n",
       "      <td>37.9</td>\n",
       "      <td>29.3</td>\n",
       "      <td>1.0</td>\n",
       "    </tr>\n",
       "    <tr>\n",
       "      <th>15</th>\n",
       "      <td>1901</td>\n",
       "      <td>Full Shadow</td>\n",
       "      <td>29.86</td>\n",
       "      <td>16.0</td>\n",
       "      <td>26.2</td>\n",
       "      <td>18.9</td>\n",
       "      <td>40.71</td>\n",
       "      <td>30.8</td>\n",
       "      <td>41.9</td>\n",
       "      <td>35.1</td>\n",
       "      <td>1.0</td>\n",
       "    </tr>\n",
       "    <tr>\n",
       "      <th>17</th>\n",
       "      <td>1903</td>\n",
       "      <td>Full Shadow</td>\n",
       "      <td>28.42</td>\n",
       "      <td>24.5</td>\n",
       "      <td>31.3</td>\n",
       "      <td>28.0</td>\n",
       "      <td>42.21</td>\n",
       "      <td>40.4</td>\n",
       "      <td>47.7</td>\n",
       "      <td>44.5</td>\n",
       "      <td>1.0</td>\n",
       "    </tr>\n",
       "    <tr>\n",
       "      <th>18</th>\n",
       "      <td>1904</td>\n",
       "      <td>Full Shadow</td>\n",
       "      <td>31.59</td>\n",
       "      <td>15.0</td>\n",
       "      <td>28.2</td>\n",
       "      <td>19.2</td>\n",
       "      <td>41.76</td>\n",
       "      <td>29.8</td>\n",
       "      <td>42.8</td>\n",
       "      <td>34.0</td>\n",
       "      <td>1.0</td>\n",
       "    </tr>\n",
       "  </tbody>\n",
       "</table>\n",
       "</div>"
      ],
      "text/plain": [
       "    year       result  feb_avg  feb_avg_ne  feb_avg_mw  feb_avg_pn  mar_avg  \\\n",
       "12  1898  Full Shadow    35.37        24.8        33.3        26.7    41.05   \n",
       "14  1900  Full Shadow    30.76        21.4        27.5        24.1    41.27   \n",
       "15  1901  Full Shadow    29.86        16.0        26.2        18.9    40.71   \n",
       "17  1903  Full Shadow    28.42        24.5        31.3        28.0    42.21   \n",
       "18  1904  Full Shadow    31.59        15.0        28.2        19.2    41.76   \n",
       "\n",
       "    mar_avg_ne  mar_avg_mw  mar_avg_pn  result_num  \n",
       "12        38.0        46.0        42.0         1.0  \n",
       "14        26.0        37.9        29.3         1.0  \n",
       "15        30.8        41.9        35.1         1.0  \n",
       "17        40.4        47.7        44.5         1.0  \n",
       "18        29.8        42.8        34.0         1.0  "
      ]
     },
     "execution_count": 11,
     "metadata": {},
     "output_type": "execute_result"
    }
   ],
   "source": [
    "# Confirm changes to dataframe\n",
    "temp.head()"
   ]
  },
  {
   "cell_type": "code",
   "execution_count": 12,
   "metadata": {},
   "outputs": [
    {
     "data": {
      "text/html": [
       "<div>\n",
       "<style scoped>\n",
       "    .dataframe tbody tr th:only-of-type {\n",
       "        vertical-align: middle;\n",
       "    }\n",
       "\n",
       "    .dataframe tbody tr th {\n",
       "        vertical-align: top;\n",
       "    }\n",
       "\n",
       "    .dataframe thead th {\n",
       "        text-align: right;\n",
       "    }\n",
       "</style>\n",
       "<table border=\"1\" class=\"dataframe\">\n",
       "  <thead>\n",
       "    <tr style=\"text-align: right;\">\n",
       "      <th></th>\n",
       "      <th>year</th>\n",
       "      <th>result</th>\n",
       "      <th>feb_avg</th>\n",
       "      <th>feb_avg_ne</th>\n",
       "      <th>feb_avg_mw</th>\n",
       "      <th>feb_avg_pn</th>\n",
       "      <th>mar_avg</th>\n",
       "      <th>mar_avg_ne</th>\n",
       "      <th>mar_avg_mw</th>\n",
       "      <th>mar_avg_pn</th>\n",
       "      <th>result_num</th>\n",
       "    </tr>\n",
       "  </thead>\n",
       "  <tbody>\n",
       "    <tr>\n",
       "      <th>126</th>\n",
       "      <td>2012</td>\n",
       "      <td>Full Shadow</td>\n",
       "      <td>37.51</td>\n",
       "      <td>30.6</td>\n",
       "      <td>38.6</td>\n",
       "      <td>34.3</td>\n",
       "      <td>50.41</td>\n",
       "      <td>43.4</td>\n",
       "      <td>56.3</td>\n",
       "      <td>47.7</td>\n",
       "      <td>1.0</td>\n",
       "    </tr>\n",
       "    <tr>\n",
       "      <th>127</th>\n",
       "      <td>2013</td>\n",
       "      <td>No Shadow</td>\n",
       "      <td>34.77</td>\n",
       "      <td>25.3</td>\n",
       "      <td>33.4</td>\n",
       "      <td>27.4</td>\n",
       "      <td>40.91</td>\n",
       "      <td>32.7</td>\n",
       "      <td>37.3</td>\n",
       "      <td>33.9</td>\n",
       "      <td>0.0</td>\n",
       "    </tr>\n",
       "    <tr>\n",
       "      <th>128</th>\n",
       "      <td>2014</td>\n",
       "      <td>Full Shadow</td>\n",
       "      <td>32.13</td>\n",
       "      <td>21.0</td>\n",
       "      <td>27.1</td>\n",
       "      <td>22.8</td>\n",
       "      <td>40.51</td>\n",
       "      <td>26.0</td>\n",
       "      <td>38.0</td>\n",
       "      <td>30.3</td>\n",
       "      <td>1.0</td>\n",
       "    </tr>\n",
       "    <tr>\n",
       "      <th>129</th>\n",
       "      <td>2015</td>\n",
       "      <td>Full Shadow</td>\n",
       "      <td>32.99</td>\n",
       "      <td>12.1</td>\n",
       "      <td>23.4</td>\n",
       "      <td>16.1</td>\n",
       "      <td>45.39</td>\n",
       "      <td>27.8</td>\n",
       "      <td>41.6</td>\n",
       "      <td>31.6</td>\n",
       "      <td>1.0</td>\n",
       "    </tr>\n",
       "    <tr>\n",
       "      <th>130</th>\n",
       "      <td>2016</td>\n",
       "      <td>No Shadow</td>\n",
       "      <td>39.47</td>\n",
       "      <td>28.1</td>\n",
       "      <td>36.9</td>\n",
       "      <td>30.8</td>\n",
       "      <td>47.50</td>\n",
       "      <td>38.8</td>\n",
       "      <td>49.5</td>\n",
       "      <td>43.4</td>\n",
       "      <td>0.0</td>\n",
       "    </tr>\n",
       "  </tbody>\n",
       "</table>\n",
       "</div>"
      ],
      "text/plain": [
       "     year       result  feb_avg  feb_avg_ne  feb_avg_mw  feb_avg_pn  mar_avg  \\\n",
       "126  2012  Full Shadow    37.51        30.6        38.6        34.3    50.41   \n",
       "127  2013    No Shadow    34.77        25.3        33.4        27.4    40.91   \n",
       "128  2014  Full Shadow    32.13        21.0        27.1        22.8    40.51   \n",
       "129  2015  Full Shadow    32.99        12.1        23.4        16.1    45.39   \n",
       "130  2016    No Shadow    39.47        28.1        36.9        30.8    47.50   \n",
       "\n",
       "     mar_avg_ne  mar_avg_mw  mar_avg_pn  result_num  \n",
       "126        43.4        56.3        47.7         1.0  \n",
       "127        32.7        37.3        33.9         0.0  \n",
       "128        26.0        38.0        30.3         1.0  \n",
       "129        27.8        41.6        31.6         1.0  \n",
       "130        38.8        49.5        43.4         0.0  "
      ]
     },
     "execution_count": 12,
     "metadata": {},
     "output_type": "execute_result"
    }
   ],
   "source": [
    "temp.tail()"
   ]
  },
  {
   "cell_type": "code",
   "execution_count": 13,
   "metadata": {},
   "outputs": [
    {
     "data": {
      "image/png": "[encoded data removed]",
      "text/plain": [
       "<Figure size 432x288 with 1 Axes>"
      ]
     },
     "metadata": {
      "needs_background": "light"
     },
     "output_type": "display_data"
    }
   ],
   "source": [
    "hist = thinkstats2.Hist(temp.result)\n",
    "thinkplot.Hist(hist)\n",
    "thinkplot.Config(xlabel='Result', ylabel='Count')"
   ]
  },
  {
   "cell_type": "code",
   "execution_count": 14,
   "metadata": {},
   "outputs": [
    {
     "name": "stdout",
     "output_type": "stream",
     "text": [
      "largest 5 =  [(41.41, 1), (40.1, 1), (39.81, 1), (39.78, 1), (39.7, 1)]\n",
      "smallest 5 =  [(25.23, 1), (26.92, 1), (26.94, 1), (27.99, 1), (28.13, 1)]\n"
     ]
    },
    {
     "data": {
      "image/png": "[encoded data removed]",
      "text/plain": [
       "<Figure size 432x288 with 1 Axes>"
      ]
     },
     "metadata": {
      "needs_background": "light"
     },
     "output_type": "display_data"
    }
   ],
   "source": [
    "hist = thinkstats2.Hist(temp.feb_avg)\n",
    "thinkplot.Hist(hist)\n",
    "thinkplot.Config(xlabel='Feb avg temp', ylabel='Count')\n",
    "print(\"largest 5 = \", hist.Largest(5))\n",
    "print(\"smallest 5 = \", hist.Smallest(5))\n"
   ]
  },
  {
   "cell_type": "code",
   "execution_count": 15,
   "metadata": {},
   "outputs": [
    {
     "name": "stdout",
     "output_type": "stream",
     "text": [
      "largest 5 =  [(31.6, 1), (31.2, 1), (30.6, 1), (30.3, 1), (30.0, 1)]\n",
      "smallest 5 =  [(10.4, 1), (12.1, 1), (13.9, 1), (14.5, 1), (15.0, 1)]\n"
     ]
    },
    {
     "data": {
      "image/png": "[encoded data removed]",
      "text/plain": [
       "<Figure size 432x288 with 1 Axes>"
      ]
     },
     "metadata": {
      "needs_background": "light"
     },
     "output_type": "display_data"
    }
   ],
   "source": [
    "hist = thinkstats2.Hist(temp.feb_avg_ne)\n",
    "thinkplot.Hist(hist)\n",
    "thinkplot.Config(xlabel='Feb avg temp Northeast', ylabel='Count')\n",
    "print(\"largest 5 = \", hist.Largest(5))\n",
    "print(\"smallest 5 = \", hist.Smallest(5))"
   ]
  },
  {
   "cell_type": "code",
   "execution_count": 16,
   "metadata": {},
   "outputs": [
    {
     "name": "stdout",
     "output_type": "stream",
     "text": [
      "largest 5 =  [(41.4, 1), (41.1, 2), (41.0, 1), (40.9, 1), (40.4, 1)]\n",
      "smallest 5 =  [(20.3, 1), (22.2, 1), (22.9, 1), (23.4, 1), (24.0, 1)]\n"
     ]
    },
    {
     "data": {
      "image/png": "[encoded data removed]",
      "text/plain": [
       "<Figure size 432x288 with 1 Axes>"
      ]
     },
     "metadata": {
      "needs_background": "light"
     },
     "output_type": "display_data"
    }
   ],
   "source": [
    "hist = thinkstats2.Hist(temp.feb_avg_mw)\n",
    "thinkplot.Hist(hist)\n",
    "thinkplot.Config(xlabel='Feb avg temp Midwest', ylabel='Count')\n",
    "print(\"largest 5 = \", hist.Largest(5))\n",
    "print(\"smallest 5 = \", hist.Smallest(5))"
   ]
  },
  {
   "cell_type": "code",
   "execution_count": 17,
   "metadata": {},
   "outputs": [
    {
     "name": "stdout",
     "output_type": "stream",
     "text": [
      "largest 5 =  [(35.8, 1), (34.3, 1), (33.9, 2), (33.8, 1), (33.6, 1)]\n",
      "smallest 5 =  [(15.2, 1), (16.1, 1), (16.4, 1), (17.2, 1), (18.1, 1)]\n"
     ]
    },
    {
     "data": {
      "image/png": "[encoded data removed]",
      "text/plain": [
       "<Figure size 432x288 with 1 Axes>"
      ]
     },
     "metadata": {
      "needs_background": "light"
     },
     "output_type": "display_data"
    }
   ],
   "source": [
    "hist = thinkstats2.Hist(temp.feb_avg_pn)\n",
    "thinkplot.Hist(hist)\n",
    "thinkplot.Config(xlabel='Feb avg temp Pennsylvania', ylabel='Count')\n",
    "print(\"largest 5 = \", hist.Largest(5))\n",
    "print(\"smallest 5 = \", hist.Smallest(5))"
   ]
  },
  {
   "cell_type": "code",
   "execution_count": 18,
   "metadata": {},
   "outputs": [
    {
     "name": "stdout",
     "output_type": "stream",
     "text": [
      "largest 5 =  [(50.41, 1), (49.44, 1), (47.66, 1), (47.5, 1), (47.41, 1)]\n",
      "smallest 5 =  [(35.44, 1), (35.76, 1), (35.91, 1), (36.03, 1), (36.1, 1)]\n"
     ]
    },
    {
     "data": {
      "image/png": "[encoded data removed]",
      "text/plain": [
       "<Figure size 432x288 with 1 Axes>"
      ]
     },
     "metadata": {
      "needs_background": "light"
     },
     "output_type": "display_data"
    }
   ],
   "source": [
    "hist = thinkstats2.Hist(temp.mar_avg)\n",
    "thinkplot.Hist(hist)\n",
    "thinkplot.Config(xlabel='March avg temp', ylabel='Count')\n",
    "print(\"largest 5 = \", hist.Largest(5))\n",
    "print(\"smallest 5 = \", hist.Smallest(5))"
   ]
  },
  {
   "cell_type": "code",
   "execution_count": 19,
   "metadata": {},
   "outputs": [
    {
     "name": "stdout",
     "output_type": "stream",
     "text": [
      "largest 5 =  [(43.4, 1), (41.6, 2), (40.6, 1), (40.4, 1), (39.6, 1)]\n",
      "smallest 5 =  [(24.2, 2), (25.7, 1), (25.9, 1), (26.0, 2), (26.6, 1)]\n"
     ]
    },
    {
     "data": {
      "image/png": "[encoded data removed]",
      "text/plain": [
       "<Figure size 432x288 with 1 Axes>"
      ]
     },
     "metadata": {
      "needs_background": "light"
     },
     "output_type": "display_data"
    }
   ],
   "source": [
    "hist = thinkstats2.Hist(temp.mar_avg_ne)\n",
    "thinkplot.Hist(hist)\n",
    "thinkplot.Config(xlabel='March avg temp Northeast', ylabel='Count')\n",
    "print(\"largest 5 = \", hist.Largest(5))\n",
    "print(\"smallest 5 = \", hist.Smallest(5))"
   ]
  },
  {
   "cell_type": "code",
   "execution_count": 20,
   "metadata": {},
   "outputs": [
    {
     "name": "stdout",
     "output_type": "stream",
     "text": [
      "largest 5 =  [(56.3, 1), (52.4, 1), (51.9, 2), (51.6, 1), (50.2, 1)]\n",
      "smallest 5 =  [(28.5, 1), (33.9, 1), (34.8, 1), (34.9, 1), (35.1, 1)]\n"
     ]
    },
    {
     "data": {
      "image/png": "[encoded data removed]",
      "text/plain": [
       "<Figure size 432x288 with 1 Axes>"
      ]
     },
     "metadata": {
      "needs_background": "light"
     },
     "output_type": "display_data"
    }
   ],
   "source": [
    "hist = thinkstats2.Hist(temp.mar_avg_mw)\n",
    "thinkplot.Hist(hist)\n",
    "thinkplot.Config(xlabel='March avg temp Midwest', ylabel='Count')\n",
    "print(\"largest 5 = \", hist.Largest(5))\n",
    "print(\"smallest 5 = \", hist.Smallest(5))"
   ]
  },
  {
   "cell_type": "code",
   "execution_count": 21,
   "metadata": {},
   "outputs": [
    {
     "name": "stdout",
     "output_type": "stream",
     "text": [
      "largest 5 =  [(47.7, 1), (46.2, 1), (45.4, 1), (45.3, 1), (44.5, 1)]\n",
      "smallest 5 =  [(24.5, 1), (28.2, 1), (28.9, 1), (29.1, 1), (29.3, 1)]\n"
     ]
    },
    {
     "data": {
      "image/png": "[encoded data removed]",
      "text/plain": [
       "<Figure size 432x288 with 1 Axes>"
      ]
     },
     "metadata": {
      "needs_background": "light"
     },
     "output_type": "display_data"
    }
   ],
   "source": [
    "hist = thinkstats2.Hist(temp.mar_avg_pn)\n",
    "thinkplot.Hist(hist)\n",
    "thinkplot.Config(xlabel='March avg temp Pennsylvania', ylabel='Count')\n",
    "print(\"largest 5 = \", hist.Largest(5))\n",
    "print(\"smallest 5 = \", hist.Smallest(5))"
   ]
  },
  {
   "cell_type": "code",
   "execution_count": 22,
   "metadata": {},
   "outputs": [
    {
     "name": "stdout",
     "output_type": "stream",
     "text": [
      "mean of feb avg temp =  33.928103448275856\n",
      "mode of feb avg temp =  ModeResult(mode=array([33.69]), count=array([3]))\n",
      "variance of feb avg temp =  10.157163328335832\n",
      "std of feb avg temp =  3.1870304875127617\n"
     ]
    }
   ],
   "source": [
    "print('mean of feb avg temp = ', temp.feb_avg.mean())\n",
    "print('mode of feb avg temp = ', scimode(temp.feb_avg))\n",
    "print('variance of feb avg temp = ', temp.feb_avg.var())\n",
    "print('std of feb avg temp = ', temp.feb_avg.std())"
   ]
  },
  {
   "cell_type": "code",
   "execution_count": 23,
   "metadata": {},
   "outputs": [
    {
     "name": "stdout",
     "output_type": "stream",
     "text": [
      "mean of mar avg temp =  41.834310344827585\n",
      "mode of mar avg temp =  ModeResult(mode=array([38.5]), count=array([2]))\n",
      "variance of mar avg temp =  8.677934302848577\n",
      "std of mar avg temp =  2.945833380021446\n"
     ]
    }
   ],
   "source": [
    "print('mean of mar avg temp = ', temp.mar_avg.mean())\n",
    "print('mode of mar avg temp = ', scimode(temp.mar_avg))\n",
    "print('variance of mar avg temp = ', temp.mar_avg.var())\n",
    "print('std of mar avg temp = ', temp.mar_avg.std())"
   ]
  },
  {
   "cell_type": "code",
   "execution_count": 24,
   "metadata": {},
   "outputs": [
    {
     "name": "stdout",
     "output_type": "stream",
     "text": [
      "mean of feb avg temp of ne =  22.80258620689654\n",
      "mode of feb avg temp of ne =  ModeResult(mode=array([26.2]), count=array([5]))\n",
      "variance of feb avg temp of ne =  18.5892976011994\n",
      "std of feb avg temp of ne =  4.311530772382287\n"
     ]
    }
   ],
   "source": [
    "print('mean of feb avg temp of ne = ', temp.feb_avg_ne.mean())\n",
    "print('mode of feb avg temp of ne = ', scimode(temp.feb_avg_ne))\n",
    "print('variance of feb avg temp of ne = ', temp.feb_avg_ne.var())\n",
    "print('std of feb avg temp of ne = ', temp.feb_avg_ne.std())"
   ]
  },
  {
   "cell_type": "code",
   "execution_count": 25,
   "metadata": {},
   "outputs": [
    {
     "name": "stdout",
     "output_type": "stream",
     "text": [
      "mean of mar avg temp of ne =  32.47499999999998\n",
      "mode of mar avg temp of ne =  ModeResult(mode=array([32.7]), count=array([6]))\n",
      "variance of mar avg temp of ne =  14.966239130434786\n",
      "std of mar avg temp of ne =  3.868622381473124\n"
     ]
    }
   ],
   "source": [
    "print('mean of mar avg temp of ne = ', temp.mar_avg_ne.mean())\n",
    "print('mode of mar avg temp of ne = ', scimode(temp.mar_avg_ne))\n",
    "print('variance of mar avg temp of ne = ', temp.mar_avg_ne.var())\n",
    "print('std of mar avg temp of ne = ', temp.mar_avg_ne.std())"
   ]
  },
  {
   "cell_type": "code",
   "execution_count": 26,
   "metadata": {},
   "outputs": [
    {
     "name": "stdout",
     "output_type": "stream",
     "text": [
      "mean of feb avg temp of mw =  32.90862068965518\n",
      "mode of feb avg temp of mw =  ModeResult(mode=array([31.5]), count=array([4]))\n",
      "variance of feb avg temp of mw =  22.05035982008996\n",
      "std of feb avg temp of mw  =  4.695781066030438\n"
     ]
    }
   ],
   "source": [
    "print('mean of feb avg temp of mw = ', temp.feb_avg_mw.mean())\n",
    "print('mode of feb avg temp of mw = ', scimode(temp.feb_avg_mw))\n",
    "print('variance of feb avg temp of mw = ', temp.feb_avg_mw.var())\n",
    "print('std of feb avg temp of mw  = ', temp.feb_avg_mw.std())"
   ]
  },
  {
   "cell_type": "code",
   "execution_count": 27,
   "metadata": {},
   "outputs": [
    {
     "name": "stdout",
     "output_type": "stream",
     "text": [
      "mean of mar avg temp of mw =  42.68534482758621\n",
      "mode of mar avg temp of mw =  ModeResult(mode=array([42.9]), count=array([4]))\n",
      "variance of mar avg temp of mw =  20.744392053973016\n",
      "std of mar avg temp of mw =  4.554601195930662\n"
     ]
    }
   ],
   "source": [
    "print('mean of mar avg temp of mw = ', temp.mar_avg_mw.mean())\n",
    "print('mode of mar avg temp of mw = ', scimode(temp.mar_avg_mw))\n",
    "print('variance of mar avg temp of mw = ', temp.mar_avg_mw.var())\n",
    "print('std of mar avg temp of mw = ', temp.mar_avg_mw.std())"
   ]
  },
  {
   "cell_type": "code",
   "execution_count": 28,
   "metadata": {},
   "outputs": [
    {
     "name": "stdout",
     "output_type": "stream",
     "text": [
      "mean of feb avg temp of pn =  26.687068965517252\n",
      "mode of feb avg temp of pn =  ModeResult(mode=array([23.]), count=array([3]))\n",
      "variance of feb avg temp of pn =  20.122526986506752\n",
      "std of feb avg temp of pn  =  4.485813971455655\n"
     ]
    }
   ],
   "source": [
    "print('mean of feb avg temp of pn = ', temp.feb_avg_pn.mean())\n",
    "print('mode of feb avg temp of pn = ', scimode(temp.feb_avg_pn))\n",
    "print('variance of feb avg temp of pn = ', temp.feb_avg_pn.var())\n",
    "print('std of feb avg temp of pn  = ', temp.feb_avg_pn.std())"
   ]
  },
  {
   "cell_type": "code",
   "execution_count": 29,
   "metadata": {},
   "outputs": [
    {
     "name": "stdout",
     "output_type": "stream",
     "text": [
      "mean of mar avg temp of pn =  36.01120689655171\n",
      "mode of mar avg temp of pn =  ModeResult(mode=array([30.3]), count=array([3]))\n",
      "variance of mar avg temp of pn =  17.746916791604203\n",
      "std of mar avg temp of pn =  4.212708961179755\n"
     ]
    }
   ],
   "source": [
    "print('mean of mar avg temp of pn = ', temp.mar_avg_pn.mean())\n",
    "print('mode of mar avg temp of pn = ', scimode(temp.mar_avg_pn))\n",
    "print('variance of mar avg temp of pn = ', temp.mar_avg_pn.var())\n",
    "print('std of mar avg temp of pn = ', temp.mar_avg_pn.std())"
   ]
  },
  {
   "cell_type": "code",
   "execution_count": 30,
   "metadata": {},
   "outputs": [
    {
     "name": "stdout",
     "output_type": "stream",
     "text": [
      "15\n",
      "101\n"
     ]
    }
   ],
   "source": [
    "# Create dataframes for no shadow and partial/full shadow results\n",
    "\n",
    "no_shadow = temp[temp.result_num == 0]\n",
    "print(len(no_shadow))\n",
    "shadow = temp[temp.result_num == 1]\n",
    "print(len(shadow))"
   ]
  },
  {
   "cell_type": "code",
   "execution_count": 31,
   "metadata": {},
   "outputs": [],
   "source": [
    "# Create functions for PMF and CDF functions and plots\n",
    "\n",
    "\n",
    "def pmfunc(noshadowtemp, shadowtemp):\n",
    "    \"\"\"Creates PMF and their plots.\n",
    "\n",
    "    noshadowtemp: avg temp for no shadow results\n",
    "    shadowtemp: avg gemp for partial or full shadow\n",
    "    \"\"\"\n",
    "\n",
    "    # Create PMF comparing no shadow to partial/full shadow\n",
    "    no_pmf = thinkstats2.Pmf(noshadowtemp)\n",
    "    full_pmf = thinkstats2.Pmf(shadowtemp)\n",
    "    print('No shadow pmf results = ', no_pmf)\n",
    "    print('Full or partial shadow pmf results = ', full_pmf)\n",
    "   \n",
    "    # Plot pmfs\n",
    "    thinkplot.PrePlot(2)\n",
    "    #thinkplot.SubPlot(2)\n",
    "    thinkplot.Pmfs([no_pmf, full_pmf])\n",
    "    thinkplot.Show(xlabel = 'temperature', ylabel = 'pmf')\n",
    "    \n",
    "\n",
    "def cdfnoshad(noshadowtemp):\n",
    "    \"\"\"Creates CDF and plot for no shadow results.\n",
    "\n",
    "    noshadowtemp: avg temp for no shadow results\n",
    "    \"\"\"\n",
    "    no_cdf = thinkstats2.Cdf(noshadowtemp, label = 'no shadow temps')\n",
    "    thinkplot.Cdf(no_cdf)\n",
    "    thinkplot.Config(xlabel = 'no shadow temps', ylabel = 'CDF')\n",
    "    \n",
    "def cdfshad(shadowtemp):\n",
    "    \"\"\"Creates CDF and plot for full/partial shadow results.\n",
    "\n",
    "    shadowtemp: avg temp for partial or full shadow\n",
    "    \"\"\"\n",
    "    full_cdf = thinkstats2.Cdf(shadowtemp, label = 'shadow temps')\n",
    "    thinkplot.Cdf(full_cdf)\n",
    "    thinkplot.Config(xlabel = 'shadow temps', ylabel = \"CDF\")\n",
    "        \n",
    " "
   ]
  },
  {
   "cell_type": "code",
   "execution_count": 32,
   "metadata": {},
   "outputs": [
    {
     "name": "stdout",
     "output_type": "stream",
     "text": [
      "No shadow pmf results =  Pmf({36.05: 0.06666666666666667, 37.36: 0.06666666666666667, 35.35: 0.06666666666666667, 36.7: 0.06666666666666667, 35.55: 0.06666666666666667, 34.32: 0.06666666666666667, 33.69: 0.06666666666666667, 35.85: 0.06666666666666667, 33.04: 0.06666666666666667, 32.41: 0.06666666666666667, 39.47: 0.06666666666666667, 34.77: 0.06666666666666667, 36.86: 0.06666666666666667, 39.49: 0.06666666666666667, 32.76: 0.06666666666666667})\n",
      "Full or partial shadow pmf results =  Pmf({37.38: 0.019801980198019802, 33.69: 0.019801980198019802, 37.94: 0.019801980198019802, 35.46: 0.019801980198019802, 34.7: 0.009900990099009901, 31.95: 0.009900990099009901, 34.34: 0.009900990099009901, 29.57: 0.009900990099009901, 34.12: 0.009900990099009901, 33.66: 0.009900990099009901, 36.9: 0.009900990099009901, 29.3: 0.009900990099009901, 31.8: 0.009900990099009901, 28.42: 0.009900990099009901, 27.99: 0.009900990099009901, 26.94: 0.009900990099009901, 33.57: 0.009900990099009901, 37.9: 0.009900990099009901, 35.02: 0.009900990099009901, 35.19: 0.009900990099009901, 32.13: 0.009900990099009901, 40.1: 0.009900990099009901, 32.52: 0.009900990099009901, 31.24: 0.009900990099009901, 31.77: 0.009900990099009901, 35.37: 0.009900990099009901, 32.99: 0.009900990099009901, 32.81: 0.009900990099009901, 33.01: 0.009900990099009901, 32.25: 0.009900990099009901, 36.0: 0.009900990099009901, 34.5: 0.009900990099009901, 30.76: 0.009900990099009901, 30.74: 0.009900990099009901, 32.85: 0.009900990099009901, 30.87: 0.009900990099009901, 29.59: 0.009900990099009901, 29.52: 0.009900990099009901, 38.07: 0.009900990099009901, 34.92: 0.009900990099009901, 39.78: 0.009900990099009901, 32.88: 0.009900990099009901, 37.42: 0.009900990099009901, 35.28: 0.009900990099009901, 32.49: 0.009900990099009901, 37.67: 0.009900990099009901, 26.92: 0.009900990099009901, 36.01: 0.009900990099009901, 32.59: 0.009900990099009901, 31.62: 0.009900990099009901, 32.92: 0.009900990099009901, 33.53: 0.009900990099009901, 34.74: 0.009900990099009901, 31.41: 0.009900990099009901, 29.98: 0.009900990099009901, 33.98: 0.009900990099009901, 34.88: 0.009900990099009901, 30.52: 0.009900990099009901, 30.09: 0.009900990099009901, 36.77: 0.009900990099009901, 31.73: 0.009900990099009901, 29.17: 0.009900990099009901, 35.94: 0.009900990099009901, 28.13: 0.009900990099009901, 39.81: 0.009900990099009901, 31.08: 0.009900990099009901, 33.48: 0.009900990099009901, 39.7: 0.009900990099009901, 31.91: 0.009900990099009901, 31.87: 0.009900990099009901, 34.54: 0.009900990099009901, 25.23: 0.009900990099009901, 36.03: 0.009900990099009901, 31.98: 0.009900990099009901, 33.85: 0.009900990099009901, 31.59: 0.009900990099009901, 32.79: 0.009900990099009901, 29.86: 0.009900990099009901, 34.83: 0.009900990099009901, 39.56: 0.009900990099009901, 36.59: 0.009900990099009901, 38.71: 0.009900990099009901, 37.51: 0.009900990099009901, 35.87: 0.009900990099009901, 33.03: 0.009900990099009901, 33.82: 0.009900990099009901, 31.05: 0.009900990099009901, 36.39: 0.009900990099009901, 38.3: 0.009900990099009901, 36.7: 0.009900990099009901, 31.14: 0.009900990099009901, 33.55: 0.009900990099009901, 33.58: 0.009900990099009901, 32.27: 0.009900990099009901, 35.69: 0.009900990099009901, 41.41: 0.009900990099009901, 29.5: 0.009900990099009901})\n"
     ]
    },
    {
     "data": {
      "image/png": "[encoded data removed]",
      "text/plain": [
       "<Figure size 432x288 with 1 Axes>"
      ]
     },
     "metadata": {
      "needs_background": "light"
     },
     "output_type": "display_data"
    },
    {
     "data": {
      "text/plain": [
       "<Figure size 576x432 with 0 Axes>"
      ]
     },
     "metadata": {},
     "output_type": "display_data"
    }
   ],
   "source": [
    "pmfunc(no_shadow.feb_avg, shadow.feb_avg)"
   ]
  },
  {
   "cell_type": "code",
   "execution_count": 33,
   "metadata": {},
   "outputs": [
    {
     "data": {
      "image/png": "[encoded data removed]",
      "text/plain": [
       "<Figure size 432x288 with 1 Axes>"
      ]
     },
     "metadata": {
      "needs_background": "light"
     },
     "output_type": "display_data"
    }
   ],
   "source": [
    "cdfnoshad(no_shadow.feb_avg)"
   ]
  },
  {
   "cell_type": "code",
   "execution_count": 34,
   "metadata": {},
   "outputs": [
    {
     "data": {
      "image/png": "[encoded data removed]",
      "text/plain": [
       "<Figure size 432x288 with 1 Axes>"
      ]
     },
     "metadata": {
      "needs_background": "light"
     },
     "output_type": "display_data"
    }
   ],
   "source": [
    "cdfshad(shadow.feb_avg)"
   ]
  },
  {
   "cell_type": "code",
   "execution_count": 35,
   "metadata": {},
   "outputs": [
    {
     "name": "stdout",
     "output_type": "stream",
     "text": [
      "No shadow pmf results =  Pmf({42.4: 0.13333333333333333, 38.84: 0.06666666666666667, 44.67: 0.06666666666666667, 38.7: 0.06666666666666667, 42.8: 0.06666666666666667, 43.07: 0.06666666666666667, 46.18: 0.06666666666666667, 40.91: 0.06666666666666667, 42.78: 0.06666666666666667, 43.34: 0.06666666666666667, 47.66: 0.06666666666666667, 44.74: 0.06666666666666667, 47.5: 0.06666666666666667, 38.5: 0.06666666666666667})\n",
      "Full or partial shadow pmf results =  Pmf({40.75: 0.019801980198019802, 41.27: 0.019801980198019802, 41.31: 0.019801980198019802, 39.65: 0.019801980198019802, 38.71: 0.019801980198019802, 42.31: 0.019801980198019802, 43.56: 0.019801980198019802, 40.41: 0.009900990099009901, 46.63: 0.009900990099009901, 45.12: 0.009900990099009901, 43.18: 0.009900990099009901, 37.36: 0.009900990099009901, 42.51: 0.009900990099009901, 40.89: 0.009900990099009901, 42.62: 0.009900990099009901, 43.32: 0.009900990099009901, 37.9: 0.009900990099009901, 36.1: 0.009900990099009901, 38.84: 0.009900990099009901, 35.76: 0.009900990099009901, 35.44: 0.009900990099009901, 44.02: 0.009900990099009901, 46.04: 0.009900990099009901, 43.47: 0.009900990099009901, 42.15: 0.009900990099009901, 43.72: 0.009900990099009901, 40.51: 0.009900990099009901, 41.34: 0.009900990099009901, 45.75: 0.009900990099009901, 38.5: 0.009900990099009901, 38.75: 0.009900990099009901, 43.75: 0.009900990099009901, 39.25: 0.009900990099009901, 43.0: 0.009900990099009901, 37.67: 0.009900990099009901, 45.54: 0.009900990099009901, 40.71: 0.009900990099009901, 39.2: 0.009900990099009901, 39.42: 0.009900990099009901, 39.36: 0.009900990099009901, 44.38: 0.009900990099009901, 49.44: 0.009900990099009901, 50.41: 0.009900990099009901, 40.42: 0.009900990099009901, 46.78: 0.009900990099009901, 41.83: 0.009900990099009901, 43.92: 0.009900990099009901, 40.35: 0.009900990099009901, 44.51: 0.009900990099009901, 39.02: 0.009900990099009901, 42.87: 0.009900990099009901, 43.3: 0.009900990099009901, 42.85: 0.009900990099009901, 37.69: 0.009900990099009901, 36.03: 0.009900990099009901, 41.49: 0.009900990099009901, 41.52: 0.009900990099009901, 43.63: 0.009900990099009901, 43.57: 0.009900990099009901, 44.29: 0.009900990099009901, 43.43: 0.009900990099009901, 44.71: 0.009900990099009901, 36.95: 0.009900990099009901, 42.26: 0.009900990099009901, 40.06: 0.009900990099009901, 35.91: 0.009900990099009901, 41.86: 0.009900990099009901, 42.57: 0.009900990099009901, 44.04: 0.009900990099009901, 42.21: 0.009900990099009901, 41.45: 0.009900990099009901, 38.55: 0.009900990099009901, 42.67: 0.009900990099009901, 40.08: 0.009900990099009901, 41.79: 0.009900990099009901, 41.76: 0.009900990099009901, 44.24: 0.009900990099009901, 47.41: 0.009900990099009901, 38.35: 0.009900990099009901, 39.54: 0.009900990099009901, 40.77: 0.009900990099009901, 42.06: 0.009900990099009901, 45.01: 0.009900990099009901, 43.12: 0.009900990099009901, 40.28: 0.009900990099009901, 37.18: 0.009900990099009901, 38.82: 0.009900990099009901, 45.39: 0.009900990099009901, 41.05: 0.009900990099009901, 45.7: 0.009900990099009901, 42.03: 0.009900990099009901, 38.3: 0.009900990099009901, 43.61: 0.009900990099009901, 43.48: 0.009900990099009901})\n"
     ]
    },
    {
     "data": {
      "image/png": "[encoded data removed]",
      "text/plain": [
       "<Figure size 432x288 with 1 Axes>"
      ]
     },
     "metadata": {
      "needs_background": "light"
     },
     "output_type": "display_data"
    },
    {
     "data": {
      "text/plain": [
       "<Figure size 576x432 with 0 Axes>"
      ]
     },
     "metadata": {},
     "output_type": "display_data"
    }
   ],
   "source": [
    "pmfunc(no_shadow.mar_avg, shadow.mar_avg)\n"
   ]
  },
  {
   "cell_type": "code",
   "execution_count": 36,
   "metadata": {},
   "outputs": [
    {
     "data": {
      "image/png": "[encoded data removed]",
      "text/plain": [
       "<Figure size 432x288 with 1 Axes>"
      ]
     },
     "metadata": {
      "needs_background": "light"
     },
     "output_type": "display_data"
    }
   ],
   "source": [
    "cdfnoshad(no_shadow.mar_avg)"
   ]
  },
  {
   "cell_type": "code",
   "execution_count": 37,
   "metadata": {},
   "outputs": [
    {
     "data": {
      "image/png": "[encoded data removed]",
      "text/plain": [
       "<Figure size 432x288 with 1 Axes>"
      ]
     },
     "metadata": {
      "needs_background": "light"
     },
     "output_type": "display_data"
    }
   ],
   "source": [
    "cdfshad(shadow.mar_avg)"
   ]
  },
  {
   "cell_type": "code",
   "execution_count": 38,
   "metadata": {},
   "outputs": [
    {
     "name": "stdout",
     "output_type": "stream",
     "text": [
      "No shadow pmf results =  Pmf({28.1: 0.06666666666666667, 28.2: 0.06666666666666667, 10.4: 0.06666666666666667, 21.6: 0.06666666666666667, 26.2: 0.06666666666666667, 28.6: 0.06666666666666667, 24.7: 0.06666666666666667, 20.6: 0.06666666666666667, 22.3: 0.06666666666666667, 23.7: 0.06666666666666667, 24.1: 0.06666666666666667, 25.3: 0.06666666666666667, 18.0: 0.06666666666666667, 28.0: 0.06666666666666667, 22.5: 0.06666666666666667})\n",
      "Full or partial shadow pmf results =  Pmf({26.2: 0.039603960396039604, 24.2: 0.0297029702970297, 26.0: 0.0297029702970297, 21.4: 0.0297029702970297, 26.4: 0.019801980198019802, 21.8: 0.019801980198019802, 24.8: 0.019801980198019802, 16.2: 0.019801980198019802, 19.8: 0.019801980198019802, 21.7: 0.019801980198019802, 25.7: 0.019801980198019802, 20.6: 0.019801980198019802, 15.6: 0.019801980198019802, 15.2: 0.019801980198019802, 18.4: 0.019801980198019802, 23.6: 0.019801980198019802, 20.1: 0.019801980198019802, 28.0: 0.019801980198019802, 25.4: 0.019801980198019802, 23.2: 0.019801980198019802, 22.0: 0.019801980198019802, 20.0: 0.019801980198019802, 20.5: 0.019801980198019802, 28.7: 0.009900990099009901, 24.5: 0.009900990099009901, 15.0: 0.009900990099009901, 20.2: 0.009900990099009901, 25.1: 0.009900990099009901, 12.1: 0.009900990099009901, 14.5: 0.009900990099009901, 30.6: 0.009900990099009901, 30.0: 0.009900990099009901, 27.3: 0.009900990099009901, 21.0: 0.009900990099009901, 29.7: 0.009900990099009901, 21.6: 0.009900990099009901, 27.2: 0.009900990099009901, 23.0: 0.009900990099009901, 17.5: 0.009900990099009901, 19.6: 0.009900990099009901, 24.0: 0.009900990099009901, 25.9: 0.009900990099009901, 24.6: 0.009900990099009901, 22.6: 0.009900990099009901, 26.7: 0.009900990099009901, 24.9: 0.009900990099009901, 31.2: 0.009900990099009901, 22.3: 0.009900990099009901, 21.1: 0.009900990099009901, 22.9: 0.009900990099009901, 23.7: 0.009900990099009901, 23.9: 0.009900990099009901, 18.6: 0.009900990099009901, 26.9: 0.009900990099009901, 17.9: 0.009900990099009901, 26.3: 0.009900990099009901, 18.2: 0.009900990099009901, 22.4: 0.009900990099009901, 18.9: 0.009900990099009901, 22.1: 0.009900990099009901, 25.8: 0.009900990099009901, 26.1: 0.009900990099009901, 19.7: 0.009900990099009901, 30.3: 0.009900990099009901, 18.3: 0.009900990099009901, 31.6: 0.009900990099009901, 25.6: 0.009900990099009901, 13.9: 0.009900990099009901, 19.4: 0.009900990099009901, 29.2: 0.009900990099009901, 28.8: 0.009900990099009901, 17.8: 0.009900990099009901, 16.0: 0.009900990099009901})\n"
     ]
    },
    {
     "data": {
      "image/png": "[encoded data removed]",
      "text/plain": [
       "<Figure size 432x288 with 1 Axes>"
      ]
     },
     "metadata": {
      "needs_background": "light"
     },
     "output_type": "display_data"
    },
    {
     "data": {
      "text/plain": [
       "<Figure size 576x432 with 0 Axes>"
      ]
     },
     "metadata": {},
     "output_type": "display_data"
    }
   ],
   "source": [
    "pmfunc(no_shadow.feb_avg_ne, shadow.feb_avg_ne)"
   ]
  },
  {
   "cell_type": "code",
   "execution_count": 39,
   "metadata": {},
   "outputs": [
    {
     "data": {
      "image/png": "[encoded data removed]",
      "text/plain": [
       "<Figure size 432x288 with 1 Axes>"
      ]
     },
     "metadata": {
      "needs_background": "light"
     },
     "output_type": "display_data"
    }
   ],
   "source": [
    "cdfnoshad(no_shadow.feb_avg_ne)"
   ]
  },
  {
   "cell_type": "code",
   "execution_count": 40,
   "metadata": {},
   "outputs": [
    {
     "data": {
      "image/png": "[encoded data removed]",
      "text/plain": [
       "<Figure size 432x288 with 1 Axes>"
      ]
     },
     "metadata": {
      "needs_background": "light"
     },
     "output_type": "display_data"
    }
   ],
   "source": [
    "cdfshad(shadow.feb_avg_ne)"
   ]
  },
  {
   "cell_type": "code",
   "execution_count": 41,
   "metadata": {},
   "outputs": [
    {
     "name": "stdout",
     "output_type": "stream",
     "text": [
      "No shadow pmf results =  Pmf({32.7: 0.13333333333333333, 35.7: 0.13333333333333333, 33.0: 0.13333333333333333, 38.8: 0.06666666666666667, 33.2: 0.06666666666666667, 27.3: 0.06666666666666667, 29.2: 0.06666666666666667, 29.8: 0.06666666666666667, 36.2: 0.06666666666666667, 30.4: 0.06666666666666667, 32.1: 0.06666666666666667, 34.7: 0.06666666666666667})\n",
      "Full or partial shadow pmf results =  Pmf({32.7: 0.039603960396039604, 30.2: 0.0297029702970297, 34.8: 0.0297029702970297, 29.7: 0.0297029702970297, 34.1: 0.0297029702970297, 32.9: 0.0297029702970297, 29.8: 0.019801980198019802, 35.9: 0.019801980198019802, 29.6: 0.019801980198019802, 41.6: 0.019801980198019802, 30.1: 0.019801980198019802, 24.2: 0.019801980198019802, 35.5: 0.019801980198019802, 29.3: 0.019801980198019802, 33.3: 0.019801980198019802, 27.9: 0.019801980198019802, 36.2: 0.019801980198019802, 33.6: 0.019801980198019802, 26.0: 0.019801980198019802, 35.2: 0.019801980198019802, 31.6: 0.019801980198019802, 29.1: 0.009900990099009901, 34.7: 0.009900990099009901, 27.8: 0.009900990099009901, 39.2: 0.009900990099009901, 30.8: 0.009900990099009901, 32.6: 0.009900990099009901, 40.4: 0.009900990099009901, 34.5: 0.009900990099009901, 39.6: 0.009900990099009901, 35.7: 0.009900990099009901, 34.0: 0.009900990099009901, 30.0: 0.009900990099009901, 25.7: 0.009900990099009901, 31.5: 0.009900990099009901, 33.0: 0.009900990099009901, 31.0: 0.009900990099009901, 37.0: 0.009900990099009901, 32.5: 0.009900990099009901, 32.0: 0.009900990099009901, 33.5: 0.009900990099009901, 27.0: 0.009900990099009901, 35.0: 0.009900990099009901, 32.2: 0.009900990099009901, 31.2: 0.009900990099009901, 27.7: 0.009900990099009901, 26.6: 0.009900990099009901, 43.4: 0.009900990099009901, 27.6: 0.009900990099009901, 29.9: 0.009900990099009901, 38.4: 0.009900990099009901, 32.3: 0.009900990099009901, 33.4: 0.009900990099009901, 36.1: 0.009900990099009901, 28.9: 0.009900990099009901, 25.9: 0.009900990099009901, 26.7: 0.009900990099009901, 33.8: 0.009900990099009901, 31.3: 0.009900990099009901, 28.4: 0.009900990099009901, 37.4: 0.009900990099009901, 37.8: 0.009900990099009901, 31.7: 0.009900990099009901, 31.4: 0.009900990099009901, 31.8: 0.009900990099009901, 40.6: 0.009900990099009901, 30.6: 0.009900990099009901, 28.8: 0.009900990099009901, 28.3: 0.009900990099009901, 39.1: 0.009900990099009901, 28.1: 0.009900990099009901, 33.1: 0.009900990099009901, 38.0: 0.009900990099009901})\n"
     ]
    },
    {
     "data": {
      "image/png": "[encoded data removed]",
      "text/plain": [
       "<Figure size 432x288 with 1 Axes>"
      ]
     },
     "metadata": {
      "needs_background": "light"
     },
     "output_type": "display_data"
    },
    {
     "data": {
      "text/plain": [
       "<Figure size 576x432 with 0 Axes>"
      ]
     },
     "metadata": {},
     "output_type": "display_data"
    }
   ],
   "source": [
    "pmfunc(no_shadow.mar_avg_ne, shadow.mar_avg_ne)"
   ]
  },
  {
   "cell_type": "code",
   "execution_count": 42,
   "metadata": {},
   "outputs": [
    {
     "data": {
      "image/png": "[encoded data removed]",
      "text/plain": [
       "<Figure size 432x288 with 1 Axes>"
      ]
     },
     "metadata": {
      "needs_background": "light"
     },
     "output_type": "display_data"
    }
   ],
   "source": [
    "cdfnoshad(no_shadow.mar_avg_ne)"
   ]
  },
  {
   "cell_type": "code",
   "execution_count": 43,
   "metadata": {},
   "outputs": [
    {
     "data": {
      "image/png": "[encoded data removed]",
      "text/plain": [
       "<Figure size 432x288 with 1 Axes>"
      ]
     },
     "metadata": {
      "needs_background": "light"
     },
     "output_type": "display_data"
    }
   ],
   "source": [
    "cdfshad(shadow.mar_avg_ne)"
   ]
  },
  {
   "cell_type": "code",
   "execution_count": 44,
   "metadata": {},
   "outputs": [
    {
     "name": "stdout",
     "output_type": "stream",
     "text": [
      "No shadow pmf results =  Pmf({33.4: 0.06666666666666667, 30.4: 0.06666666666666667, 34.4: 0.06666666666666667, 31.3: 0.06666666666666667, 37.7: 0.06666666666666667, 34.3: 0.06666666666666667, 35.9: 0.06666666666666667, 34.7: 0.06666666666666667, 27.2: 0.06666666666666667, 26.1: 0.06666666666666667, 32.6: 0.06666666666666667, 39.9: 0.06666666666666667, 36.9: 0.06666666666666667, 39.5: 0.06666666666666667, 33.5: 0.06666666666666667})\n",
      "Full or partial shadow pmf results =  Pmf({31.5: 0.039603960396039604, 36.3: 0.0297029702970297, 34.1: 0.0297029702970297, 29.1: 0.0297029702970297, 38.6: 0.0297029702970297, 31.8: 0.019801980198019802, 36.1: 0.019801980198019802, 37.6: 0.019801980198019802, 26.2: 0.019801980198019802, 33.7: 0.019801980198019802, 31.9: 0.019801980198019802, 37.4: 0.019801980198019802, 33.4: 0.019801980198019802, 28.2: 0.019801980198019802, 37.5: 0.019801980198019802, 41.1: 0.019801980198019802, 26.3: 0.019801980198019802, 35.9: 0.009900990099009901, 32.4: 0.009900990099009901, 31.3: 0.009900990099009901, 40.2: 0.009900990099009901, 30.2: 0.009900990099009901, 22.2: 0.009900990099009901, 40.9: 0.009900990099009901, 26.6: 0.009900990099009901, 32.7: 0.009900990099009901, 33.1: 0.009900990099009901, 32.2: 0.009900990099009901, 28.5: 0.009900990099009901, 38.0: 0.009900990099009901, 41.0: 0.009900990099009901, 35.0: 0.009900990099009901, 24.0: 0.009900990099009901, 34.0: 0.009900990099009901, 36.5: 0.009900990099009901, 24.5: 0.009900990099009901, 33.0: 0.009900990099009901, 30.1: 0.009900990099009901, 34.5: 0.009900990099009901, 39.5: 0.009900990099009901, 30.5: 0.009900990099009901, 23.4: 0.009900990099009901, 25.8: 0.009900990099009901, 28.6: 0.009900990099009901, 35.7: 0.009900990099009901, 30.7: 0.009900990099009901, 32.1: 0.009900990099009901, 40.1: 0.009900990099009901, 36.9: 0.009900990099009901, 34.2: 0.009900990099009901, 28.4: 0.009900990099009901, 30.4: 0.009900990099009901, 29.6: 0.009900990099009901, 20.3: 0.009900990099009901, 22.9: 0.009900990099009901, 33.6: 0.009900990099009901, 32.9: 0.009900990099009901, 30.9: 0.009900990099009901, 34.8: 0.009900990099009901, 25.7: 0.009900990099009901, 37.3: 0.009900990099009901, 29.4: 0.009900990099009901, 29.8: 0.009900990099009901, 38.7: 0.009900990099009901, 33.9: 0.009900990099009901, 32.3: 0.009900990099009901, 29.7: 0.009900990099009901, 37.2: 0.009900990099009901, 33.3: 0.009900990099009901, 27.3: 0.009900990099009901, 27.1: 0.009900990099009901, 41.4: 0.009900990099009901, 40.4: 0.009900990099009901, 31.7: 0.009900990099009901, 36.8: 0.009900990099009901, 31.2: 0.009900990099009901, 38.1: 0.009900990099009901, 27.5: 0.009900990099009901})\n"
     ]
    },
    {
     "data": {
      "image/png": "[encoded data removed]",
      "text/plain": [
       "<Figure size 432x288 with 1 Axes>"
      ]
     },
     "metadata": {
      "needs_background": "light"
     },
     "output_type": "display_data"
    },
    {
     "data": {
      "text/plain": [
       "<Figure size 576x432 with 0 Axes>"
      ]
     },
     "metadata": {},
     "output_type": "display_data"
    }
   ],
   "source": [
    "pmfunc(no_shadow.feb_avg_mw, shadow.feb_avg_mw)"
   ]
  },
  {
   "cell_type": "code",
   "execution_count": 45,
   "metadata": {},
   "outputs": [
    {
     "data": {
      "image/png": "[encoded data removed]",
      "text/plain": [
       "<Figure size 432x288 with 1 Axes>"
      ]
     },
     "metadata": {
      "needs_background": "light"
     },
     "output_type": "display_data"
    }
   ],
   "source": [
    "cdfnoshad(no_shadow.feb_avg_mw)"
   ]
  },
  {
   "cell_type": "code",
   "execution_count": 46,
   "metadata": {},
   "outputs": [
    {
     "data": {
      "image/png": "[encoded data removed]",
      "text/plain": [
       "<Figure size 432x288 with 1 Axes>"
      ]
     },
     "metadata": {
      "needs_background": "light"
     },
     "output_type": "display_data"
    }
   ],
   "source": [
    "cdfshad(shadow.feb_avg_mw)"
   ]
  },
  {
   "cell_type": "code",
   "execution_count": 47,
   "metadata": {},
   "outputs": [
    {
     "name": "stdout",
     "output_type": "stream",
     "text": [
      "No shadow pmf results =  Pmf({45.6: 0.06666666666666667, 37.3: 0.06666666666666667, 45.8: 0.06666666666666667, 38.8: 0.06666666666666667, 38.7: 0.06666666666666667, 39.8: 0.06666666666666667, 50.1: 0.06666666666666667, 44.2: 0.06666666666666667, 46.6: 0.06666666666666667, 38.9: 0.06666666666666667, 38.6: 0.06666666666666667, 49.5: 0.06666666666666667, 43.0: 0.06666666666666667, 45.0: 0.06666666666666667, 43.5: 0.06666666666666667})\n",
      "Full or partial shadow pmf results =  Pmf({42.9: 0.039603960396039604, 44.1: 0.0297029702970297, 42.0: 0.0297029702970297, 41.5: 0.0297029702970297, 46.0: 0.019801980198019802, 43.8: 0.019801980198019802, 36.8: 0.019801980198019802, 40.8: 0.019801980198019802, 44.0: 0.019801980198019802, 36.3: 0.019801980198019802, 37.3: 0.019801980198019802, 46.1: 0.019801980198019802, 40.2: 0.019801980198019802, 41.9: 0.019801980198019802, 41.4: 0.019801980198019802, 46.3: 0.019801980198019802, 47.7: 0.019801980198019802, 44.6: 0.019801980198019802, 51.9: 0.019801980198019802, 41.1: 0.019801980198019802, 49.6: 0.019801980198019802, 43.7: 0.009900990099009901, 37.9: 0.009900990099009901, 45.7: 0.009900990099009901, 41.6: 0.009900990099009901, 35.2: 0.009900990099009901, 47.1: 0.009900990099009901, 40.6: 0.009900990099009901, 45.6: 0.009900990099009901, 44.8: 0.009900990099009901, 56.3: 0.009900990099009901, 38.0: 0.009900990099009901, 47.0: 0.009900990099009901, 39.5: 0.009900990099009901, 50.2: 0.009900990099009901, 43.5: 0.009900990099009901, 38.5: 0.009900990099009901, 28.5: 0.009900990099009901, 44.5: 0.009900990099009901, 47.5: 0.009900990099009901, 45.0: 0.009900990099009901, 37.5: 0.009900990099009901, 39.0: 0.009900990099009901, 38.2: 0.009900990099009901, 47.4: 0.009900990099009901, 33.9: 0.009900990099009901, 41.7: 0.009900990099009901, 35.1: 0.009900990099009901, 47.9: 0.009900990099009901, 37.7: 0.009900990099009901, 45.8: 0.009900990099009901, 38.9: 0.009900990099009901, 47.2: 0.009900990099009901, 38.6: 0.009900990099009901, 40.1: 0.009900990099009901, 40.4: 0.009900990099009901, 34.8: 0.009900990099009901, 43.4: 0.009900990099009901, 39.8: 0.009900990099009901, 48.8: 0.009900990099009901, 48.2: 0.009900990099009901, 52.4: 0.009900990099009901, 39.4: 0.009900990099009901, 42.8: 0.009900990099009901, 45.1: 0.009900990099009901, 51.6: 0.009900990099009901, 37.2: 0.009900990099009901, 44.4: 0.009900990099009901, 36.2: 0.009900990099009901, 43.9: 0.009900990099009901, 42.1: 0.009900990099009901, 42.6: 0.009900990099009901, 39.3: 0.009900990099009901, 43.1: 0.009900990099009901, 34.9: 0.009900990099009901})\n"
     ]
    },
    {
     "data": {
      "image/png": "[encoded data removed]",
      "text/plain": [
       "<Figure size 432x288 with 1 Axes>"
      ]
     },
     "metadata": {
      "needs_background": "light"
     },
     "output_type": "display_data"
    },
    {
     "data": {
      "text/plain": [
       "<Figure size 576x432 with 0 Axes>"
      ]
     },
     "metadata": {},
     "output_type": "display_data"
    }
   ],
   "source": [
    "pmfunc(no_shadow.mar_avg_mw, shadow.mar_avg_mw)"
   ]
  },
  {
   "cell_type": "code",
   "execution_count": 48,
   "metadata": {},
   "outputs": [
    {
     "data": {
      "image/png": "[encoded data removed]",
      "text/plain": [
       "<Figure size 432x288 with 1 Axes>"
      ]
     },
     "metadata": {
      "needs_background": "light"
     },
     "output_type": "display_data"
    }
   ],
   "source": [
    "cdfnoshad(no_shadow.mar_avg_mw)"
   ]
  },
  {
   "cell_type": "code",
   "execution_count": 49,
   "metadata": {},
   "outputs": [
    {
     "data": {
      "image/png": "[encoded data removed]",
      "text/plain": [
       "<Figure size 432x288 with 1 Axes>"
      ]
     },
     "metadata": {
      "needs_background": "light"
     },
     "output_type": "display_data"
    }
   ],
   "source": [
    "cdfshad(shadow.mar_avg_mw)"
   ]
  },
  {
   "cell_type": "code",
   "execution_count": 50,
   "metadata": {},
   "outputs": [
    {
     "name": "stdout",
     "output_type": "stream",
     "text": [
      "No shadow pmf results =  Pmf({27.4: 0.13333333333333333, 30.8: 0.06666666666666667, 23.9: 0.06666666666666667, 25.3: 0.06666666666666667, 20.1: 0.06666666666666667, 15.2: 0.06666666666666667, 31.7: 0.06666666666666667, 26.8: 0.06666666666666667, 28.6: 0.06666666666666667, 26.7: 0.06666666666666667, 28.8: 0.06666666666666667, 33.9: 0.06666666666666667, 29.8: 0.06666666666666667, 33.0: 0.06666666666666667})\n",
      "Full or partial shadow pmf results =  Pmf({27.0: 0.0297029702970297, 23.0: 0.0297029702970297, 25.8: 0.0297029702970297, 27.1: 0.0297029702970297, 26.2: 0.019801980198019802, 27.3: 0.019801980198019802, 30.6: 0.019801980198019802, 30.1: 0.019801980198019802, 24.1: 0.019801980198019802, 23.6: 0.019801980198019802, 23.2: 0.019801980198019802, 29.8: 0.019801980198019802, 22.8: 0.019801980198019802, 22.1: 0.019801980198019802, 26.7: 0.019801980198019802, 23.8: 0.019801980198019802, 31.4: 0.019801980198019802, 32.9: 0.019801980198019802, 27.5: 0.019801980198019802, 28.9: 0.019801980198019802, 28.5: 0.019801980198019802, 29.6: 0.019801980198019802, 29.0: 0.009900990099009901, 32.2: 0.009900990099009901, 31.8: 0.009900990099009901, 25.3: 0.009900990099009901, 25.0: 0.009900990099009901, 31.6: 0.009900990099009901, 26.3: 0.009900990099009901, 30.0: 0.009900990099009901, 32.0: 0.009900990099009901, 28.6: 0.009900990099009901, 23.5: 0.009900990099009901, 20.1: 0.009900990099009901, 27.7: 0.009900990099009901, 26.5: 0.009900990099009901, 34.3: 0.009900990099009901, 35.8: 0.009900990099009901, 25.5: 0.009900990099009901, 33.5: 0.009900990099009901, 30.9: 0.009900990099009901, 31.5: 0.009900990099009901, 19.2: 0.009900990099009901, 33.8: 0.009900990099009901, 25.6: 0.009900990099009901, 21.1: 0.009900990099009901, 22.6: 0.009900990099009901, 17.2: 0.009900990099009901, 33.9: 0.009900990099009901, 18.3: 0.009900990099009901, 16.4: 0.009900990099009901, 32.4: 0.009900990099009901, 18.4: 0.009900990099009901, 18.1: 0.009900990099009901, 25.4: 0.009900990099009901, 26.8: 0.009900990099009901, 20.4: 0.009900990099009901, 32.6: 0.009900990099009901, 30.7: 0.009900990099009901, 27.4: 0.009900990099009901, 28.4: 0.009900990099009901, 18.7: 0.009900990099009901, 32.8: 0.009900990099009901, 23.9: 0.009900990099009901, 21.7: 0.009900990099009901, 18.9: 0.009900990099009901, 22.3: 0.009900990099009901, 26.1: 0.009900990099009901, 30.2: 0.009900990099009901, 24.7: 0.009900990099009901, 26.9: 0.009900990099009901, 25.7: 0.009900990099009901, 16.1: 0.009900990099009901, 33.6: 0.009900990099009901, 28.0: 0.009900990099009901})\n"
     ]
    },
    {
     "data": {
      "image/png": "[encoded data removed]",
      "text/plain": [
       "<Figure size 432x288 with 1 Axes>"
      ]
     },
     "metadata": {
      "needs_background": "light"
     },
     "output_type": "display_data"
    },
    {
     "data": {
      "text/plain": [
       "<Figure size 576x432 with 0 Axes>"
      ]
     },
     "metadata": {},
     "output_type": "display_data"
    }
   ],
   "source": [
    "pmfunc(no_shadow.feb_avg_pn, shadow.feb_avg_pn)"
   ]
  },
  {
   "cell_type": "code",
   "execution_count": 51,
   "metadata": {},
   "outputs": [
    {
     "data": {
      "image/png": "[encoded data removed]",
      "text/plain": [
       "<Figure size 432x288 with 1 Axes>"
      ]
     },
     "metadata": {
      "needs_background": "light"
     },
     "output_type": "display_data"
    }
   ],
   "source": [
    "cdfnoshad(no_shadow.feb_avg_pn)"
   ]
  },
  {
   "cell_type": "code",
   "execution_count": 52,
   "metadata": {},
   "outputs": [
    {
     "data": {
      "image/png": "[encoded data removed]",
      "text/plain": [
       "<Figure size 432x288 with 1 Axes>"
      ]
     },
     "metadata": {
      "needs_background": "light"
     },
     "output_type": "display_data"
    }
   ],
   "source": [
    "cdfshad(shadow.feb_avg_pn)"
   ]
  },
  {
   "cell_type": "code",
   "execution_count": 53,
   "metadata": {},
   "outputs": [
    {
     "name": "stdout",
     "output_type": "stream",
     "text": [
      "No shadow pmf results =  Pmf({31.6: 0.06666666666666667, 32.1: 0.06666666666666667, 33.7: 0.06666666666666667, 36.3: 0.06666666666666667, 43.4: 0.06666666666666667, 39.7: 0.06666666666666667, 40.2: 0.06666666666666667, 33.9: 0.06666666666666667, 34.2: 0.06666666666666667, 37.6: 0.06666666666666667, 37.4: 0.06666666666666667, 38.7: 0.06666666666666667, 30.8: 0.06666666666666667, 37.2: 0.06666666666666667, 38.0: 0.06666666666666667})\n",
      "Full or partial shadow pmf results =  Pmf({36.9: 0.0297029702970297, 39.5: 0.0297029702970297, 30.3: 0.0297029702970297, 42.0: 0.019801980198019802, 32.8: 0.019801980198019802, 39.4: 0.019801980198019802, 33.7: 0.019801980198019802, 36.1: 0.019801980198019802, 38.4: 0.019801980198019802, 33.1: 0.019801980198019802, 33.8: 0.019801980198019802, 33.3: 0.019801980198019802, 37.5: 0.019801980198019802, 32.7: 0.019801980198019802, 29.5: 0.019801980198019802, 42.6: 0.019801980198019802, 35.6: 0.019801980198019802, 38.3: 0.019801980198019802, 34.1: 0.019801980198019802, 40.0: 0.019801980198019802, 36.7: 0.019801980198019802, 35.1: 0.019801980198019802, 34.0: 0.019801980198019802, 37.2: 0.019801980198019802, 37.1: 0.019801980198019802, 38.2: 0.019801980198019802, 29.3: 0.009900990099009901, 30.8: 0.009900990099009901, 40.1: 0.009900990099009901, 39.0: 0.009900990099009901, 31.8: 0.009900990099009901, 38.1: 0.009900990099009901, 32.3: 0.009900990099009901, 37.0: 0.009900990099009901, 34.5: 0.009900990099009901, 32.5: 0.009900990099009901, 39.2: 0.009900990099009901, 24.5: 0.009900990099009901, 35.0: 0.009900990099009901, 41.0: 0.009900990099009901, 33.5: 0.009900990099009901, 31.5: 0.009900990099009901, 44.5: 0.009900990099009901, 34.2: 0.009900990099009901, 39.7: 0.009900990099009901, 31.7: 0.009900990099009901, 31.4: 0.009900990099009901, 32.1: 0.009900990099009901, 31.9: 0.009900990099009901, 34.9: 0.009900990099009901, 40.8: 0.009900990099009901, 36.8: 0.009900990099009901, 38.6: 0.009900990099009901, 42.9: 0.009900990099009901, 45.3: 0.009900990099009901, 37.8: 0.009900990099009901, 34.4: 0.009900990099009901, 28.9: 0.009900990099009901, 46.2: 0.009900990099009901, 47.7: 0.009900990099009901, 32.9: 0.009900990099009901, 34.3: 0.009900990099009901, 39.3: 0.009900990099009901, 37.9: 0.009900990099009901, 29.1: 0.009900990099009901, 34.6: 0.009900990099009901, 31.6: 0.009900990099009901, 41.2: 0.009900990099009901, 30.2: 0.009900990099009901, 35.4: 0.009900990099009901, 28.2: 0.009900990099009901, 45.4: 0.009900990099009901})\n"
     ]
    },
    {
     "data": {
      "image/png": "[encoded data removed]",
      "text/plain": [
       "<Figure size 432x288 with 1 Axes>"
      ]
     },
     "metadata": {
      "needs_background": "light"
     },
     "output_type": "display_data"
    },
    {
     "data": {
      "text/plain": [
       "<Figure size 576x432 with 0 Axes>"
      ]
     },
     "metadata": {},
     "output_type": "display_data"
    }
   ],
   "source": [
    "pmfunc(no_shadow.mar_avg_pn, shadow.mar_avg_pn)"
   ]
  },
  {
   "cell_type": "code",
   "execution_count": 54,
   "metadata": {},
   "outputs": [
    {
     "data": {
      "image/png": "[encoded data removed]",
      "text/plain": [
       "<Figure size 432x288 with 1 Axes>"
      ]
     },
     "metadata": {
      "needs_background": "light"
     },
     "output_type": "display_data"
    }
   ],
   "source": [
    "cdfnoshad(no_shadow.mar_avg_pn)"
   ]
  },
  {
   "cell_type": "code",
   "execution_count": 55,
   "metadata": {},
   "outputs": [
    {
     "data": {
      "image/png": "[encoded data removed]",
      "text/plain": [
       "<Figure size 432x288 with 1 Axes>"
      ]
     },
     "metadata": {
      "needs_background": "light"
     },
     "output_type": "display_data"
    }
   ],
   "source": [
    "cdfshad(shadow.mar_avg_pn)"
   ]
  },
  {
   "cell_type": "code",
   "execution_count": 56,
   "metadata": {},
   "outputs": [],
   "source": [
    "def MakeNormalPlot(temps):\n",
    "    \"\"\"Generates a normal probability plot of temperatures.\n",
    "\n",
    "    temps: sequence\n",
    "    \"\"\"\n",
    "    mean = temps.mean()\n",
    "    std = temps.std()\n",
    "\n",
    "    xs = [-3, 3]\n",
    "    fxs, fys = thinkstats2.FitLine(xs, inter = mean, slope = std)\n",
    "    thinkplot.Plot(fxs, fys, color='gray', label='model')\n",
    "\n",
    "    xs, ys = thinkstats2.NormalProbability(temps)\n",
    "    thinkplot.Plot(xs, ys, label='temps')"
   ]
  },
  {
   "cell_type": "code",
   "execution_count": 57,
   "metadata": {},
   "outputs": [
    {
     "data": {
      "image/png": "[encoded data removed]",
      "text/plain": [
       "<Figure size 432x288 with 1 Axes>"
      ]
     },
     "metadata": {
      "needs_background": "light"
     },
     "output_type": "display_data"
    }
   ],
   "source": [
    "MakeNormalPlot(temp.feb_avg)\n",
    "thinkplot.Config(title='Feb Avg Temp, normal plot', xlabel= 'Standard deviations from mean',\n",
    "                 ylabel='Temp (F)', loc='upper left')"
   ]
  },
  {
   "cell_type": "code",
   "execution_count": 58,
   "metadata": {},
   "outputs": [
    {
     "data": {
      "image/png": "[encoded data removed]",
      "text/plain": [
       "<Figure size 432x288 with 1 Axes>"
      ]
     },
     "metadata": {
      "needs_background": "light"
     },
     "output_type": "display_data"
    }
   ],
   "source": [
    "MakeNormalPlot(temp.feb_avg_ne)\n",
    "thinkplot.Config(title='Feb Avg Temp NE, normal plot', xlabel= 'Standard deviations from mean',\n",
    "                 ylabel='Temp (F)', loc='upper left')"
   ]
  },
  {
   "cell_type": "code",
   "execution_count": 59,
   "metadata": {},
   "outputs": [
    {
     "data": {
      "image/png": "[encoded data removed]",
      "text/plain": [
       "<Figure size 432x288 with 1 Axes>"
      ]
     },
     "metadata": {
      "needs_background": "light"
     },
     "output_type": "display_data"
    }
   ],
   "source": [
    "MakeNormalPlot(temp.feb_avg_mw)\n",
    "thinkplot.Config(title='Feb Avg Temp MW, normal plot', xlabel= 'Standard deviations from mean',\n",
    "                 ylabel='Temp (F)', loc='upper left')"
   ]
  },
  {
   "cell_type": "code",
   "execution_count": 60,
   "metadata": {},
   "outputs": [
    {
     "data": {
      "image/png": "[encoded data removed]",
      "text/plain": [
       "<Figure size 432x288 with 1 Axes>"
      ]
     },
     "metadata": {
      "needs_background": "light"
     },
     "output_type": "display_data"
    }
   ],
   "source": [
    "MakeNormalPlot(temp.feb_avg_pn)\n",
    "thinkplot.Config(title='Feb Avg Temp Penn, normal plot', xlabel= 'Standard deviations from mean',\n",
    "                 ylabel='Temp (F)', loc='upper left')"
   ]
  },
  {
   "cell_type": "code",
   "execution_count": 61,
   "metadata": {},
   "outputs": [
    {
     "data": {
      "image/png": "[encoded data removed]",
      "text/plain": [
       "<Figure size 432x288 with 1 Axes>"
      ]
     },
     "metadata": {
      "needs_background": "light"
     },
     "output_type": "display_data"
    }
   ],
   "source": [
    "MakeNormalPlot(temp.mar_avg)\n",
    "thinkplot.Config(title='Mar Avg Temp, normal plot', xlabel= 'Standard deviations from mean',\n",
    "                 ylabel='Temp (F)', loc='upper left')"
   ]
  },
  {
   "cell_type": "code",
   "execution_count": 62,
   "metadata": {},
   "outputs": [
    {
     "data": {
      "image/png": "[encoded data removed]",
      "text/plain": [
       "<Figure size 432x288 with 1 Axes>"
      ]
     },
     "metadata": {
      "needs_background": "light"
     },
     "output_type": "display_data"
    }
   ],
   "source": [
    "MakeNormalPlot(temp.mar_avg_ne)\n",
    "thinkplot.Config(title='Mar Avg Temp NE, normal plot', xlabel= 'Standard deviations from mean',\n",
    "                 ylabel='Temp (F)', loc='upper left')"
   ]
  },
  {
   "cell_type": "code",
   "execution_count": 63,
   "metadata": {},
   "outputs": [
    {
     "data": {
      "image/png": "[encoded data removed]",
      "text/plain": [
       "<Figure size 432x288 with 1 Axes>"
      ]
     },
     "metadata": {
      "needs_background": "light"
     },
     "output_type": "display_data"
    }
   ],
   "source": [
    "MakeNormalPlot(temp.mar_avg_mw)\n",
    "thinkplot.Config(title='Mar Avg Temp MW, normal plot', xlabel= 'Standard deviations from mean',\n",
    "                 ylabel='Temp (F)', loc='upper left')"
   ]
  },
  {
   "cell_type": "code",
   "execution_count": 64,
   "metadata": {},
   "outputs": [
    {
     "data": {
      "image/png": "[encoded data removed]",
      "text/plain": [
       "<Figure size 432x288 with 1 Axes>"
      ]
     },
     "metadata": {
      "needs_background": "light"
     },
     "output_type": "display_data"
    }
   ],
   "source": [
    "MakeNormalPlot(temp.mar_avg_pn)\n",
    "thinkplot.Config(title='Mar Avg Temp Penn, normal plot', xlabel= 'Standard deviations from mean',\n",
    "                 ylabel='Temp (F)', loc='upper left')"
   ]
  },
  {
   "cell_type": "code",
   "execution_count": 65,
   "metadata": {},
   "outputs": [],
   "source": [
    "# Create a scatterplot function\n",
    "def ScatterPlot(temp, result):\n",
    "    \"\"\"Make a scatter plot and save it.\n",
    "    result: shadow or no shadow\n",
    "    temp: average temperature\n",
    "    \"\"\"\n",
    "    thinkplot.Scatter(temp, result)\n",
    "    thinkplot.Config(xlabel='Average Temperature',\n",
    "                     ylabel='Groundhog Shadow Result')"
   ]
  },
  {
   "cell_type": "code",
   "execution_count": 66,
   "metadata": {},
   "outputs": [],
   "source": [
    "# Create a correlations function\n",
    "def Correlations(result, temp):\n",
    "    \"\"\"Calculate and print correlations given two variables\n",
    "    result: shadow or no shadow\n",
    "    temp: average temperature\n",
    "    \"\"\"\n",
    "    print('pandas cov', result.cov(temp))\n",
    "    print('NumPy cov', np.cov(result, temp, ddof=0))\n",
    "    print('thinkstats2 Cov', thinkstats2.Cov(result, temp))\n",
    "    print()\n",
    "\n",
    "    print('pandas corr', result.corr(temp))\n",
    "    print('NumPy corrcoef', np.corrcoef(result, temp, ddof=0))\n",
    "    print('thinkstats2 Corr', thinkstats2.Corr(result, temp))\n",
    "    print()\n",
    "\n",
    "    print('pandas corr spearman', result.corr(temp, method='spearman'))\n",
    "    print('thinkstats2 SpearmanCorr', \n",
    "          thinkstats2.SpearmanCorr(result, temp))\n",
    "    print('thinkstats2 SpearmanCorr log temp', \n",
    "          thinkstats2.SpearmanCorr(result, np.log(temp)))\n",
    "    print()\n",
    "\n",
    "    print('thinkstats2 Corr log temp',\n",
    "          thinkstats2.Corr(result, np.log(temp)))\n",
    "    print()"
   ]
  },
  {
   "cell_type": "code",
   "execution_count": 67,
   "metadata": {},
   "outputs": [
    {
     "name": "stdout",
     "output_type": "stream",
     "text": [
      "pandas cov -0.2152038980509745\n",
      "NumPy cov [[ 0.11258918 -0.21334869]\n",
      " [-0.21334869 10.06960158]]\n",
      "thinkstats2 Cov -0.21334869203329357\n",
      "\n",
      "pandas corr -0.20037129910327792\n",
      "NumPy corrcoef [[ 1.        -0.2003713]\n",
      " [-0.2003713  1.       ]]\n",
      "thinkstats2 Corr -0.20037129910327783\n",
      "\n",
      "pandas corr spearman -0.2117669666555492\n",
      "thinkstats2 SpearmanCorr -0.21176696665554917\n",
      "thinkstats2 SpearmanCorr log temp -0.21176696665554917\n",
      "\n",
      "thinkstats2 Corr log temp -0.20392884086713708\n",
      "\n"
     ]
    },
    {
     "name": "stderr",
     "output_type": "stream",
     "text": [
      "C:\\Users\\Christine\\Anaconda3\\lib\\site-packages\\ipykernel_launcher.py:13: DeprecationWarning: bias and ddof have no effect and are deprecated\n",
      "  del sys.path[0]\n"
     ]
    },
    {
     "data": {
      "image/png": "[encoded data removed]",
      "text/plain": [
       "<Figure size 432x288 with 1 Axes>"
      ]
     },
     "metadata": {
      "needs_background": "light"
     },
     "output_type": "display_data"
    }
   ],
   "source": [
    "# February average temperatures\n",
    "ScatterPlot(temp.feb_avg, temp.result)\n",
    "Correlations(temp.result_num, temp.feb_avg)"
   ]
  },
  {
   "cell_type": "code",
   "execution_count": 68,
   "metadata": {},
   "outputs": [
    {
     "name": "stdout",
     "output_type": "stream",
     "text": [
      "pandas cov -0.0892278860569716\n",
      "NumPy cov [[ 0.11258918 -0.08845868]\n",
      " [-0.08845868 18.42904504]]\n",
      "thinkstats2 Cov -0.08845868014268736\n",
      "\n",
      "pandas corr -0.061410228350036865\n",
      "NumPy corrcoef [[ 1.         -0.06141023]\n",
      " [-0.06141023  1.        ]]\n",
      "thinkstats2 Corr -0.06141022835003686\n",
      "\n",
      "pandas corr spearman -0.09284914684019853\n",
      "thinkstats2 SpearmanCorr -0.09284914684019853\n",
      "thinkstats2 SpearmanCorr log temp -0.09284914684019853\n",
      "\n",
      "thinkstats2 Corr log temp -0.04417816499498667\n",
      "\n"
     ]
    },
    {
     "name": "stderr",
     "output_type": "stream",
     "text": [
      "C:\\Users\\Christine\\Anaconda3\\lib\\site-packages\\ipykernel_launcher.py:13: DeprecationWarning: bias and ddof have no effect and are deprecated\n",
      "  del sys.path[0]\n"
     ]
    },
    {
     "data": {
      "image/png": "[encoded data removed]",
      "text/plain": [
       "<Figure size 432x288 with 1 Axes>"
      ]
     },
     "metadata": {
      "needs_background": "light"
     },
     "output_type": "display_data"
    }
   ],
   "source": [
    "# February average temperatures in the Northeast\n",
    "ScatterPlot(temp.feb_avg_ne, temp.result)\n",
    "Correlations(temp.result_num, temp.feb_avg_ne)"
   ]
  },
  {
   "cell_type": "code",
   "execution_count": 69,
   "metadata": {},
   "outputs": [
    {
     "name": "stdout",
     "output_type": "stream",
     "text": [
      "pandas cov -0.12322338830584707\n",
      "NumPy cov [[ 0.11258918 -0.12216112]\n",
      " [-0.12216112 21.86027051]]\n",
      "thinkstats2 Cov -0.12216111771700354\n",
      "\n",
      "pandas corr -0.07786762066675901\n",
      "NumPy corrcoef [[ 1.         -0.07786762]\n",
      " [-0.07786762  1.        ]]\n",
      "thinkstats2 Corr -0.07786762066675901\n",
      "\n",
      "pandas corr spearman -0.08056940514104802\n",
      "thinkstats2 SpearmanCorr -0.080569405141048\n",
      "thinkstats2 SpearmanCorr log temp -0.080569405141048\n",
      "\n",
      "thinkstats2 Corr log temp -0.08362480380886611\n",
      "\n"
     ]
    },
    {
     "name": "stderr",
     "output_type": "stream",
     "text": [
      "C:\\Users\\Christine\\Anaconda3\\lib\\site-packages\\ipykernel_launcher.py:13: DeprecationWarning: bias and ddof have no effect and are deprecated\n",
      "  del sys.path[0]\n"
     ]
    },
    {
     "data": {
      "image/png": "[encoded data removed]",
      "text/plain": [
       "<Figure size 432x288 with 1 Axes>"
      ]
     },
     "metadata": {
      "needs_background": "light"
     },
     "output_type": "display_data"
    }
   ],
   "source": [
    "# February average temperatures in the Midwest\n",
    "ScatterPlot(temp.feb_avg_mw, temp.result)\n",
    "Correlations(temp.result_num, temp.feb_avg_mw)"
   ]
  },
  {
   "cell_type": "code",
   "execution_count": 70,
   "metadata": {},
   "outputs": [
    {
     "name": "stderr",
     "output_type": "stream",
     "text": [
      "C:\\Users\\Christine\\Anaconda3\\lib\\site-packages\\ipykernel_launcher.py:13: DeprecationWarning: bias and ddof have no effect and are deprecated\n",
      "  del sys.path[0]\n"
     ]
    },
    {
     "name": "stdout",
     "output_type": "stream",
     "text": [
      "pandas cov -0.07907796101949024\n",
      "NumPy cov [[ 0.11258918 -0.07839625]\n",
      " [-0.07839625 19.94905693]]\n",
      "thinkstats2 Cov -0.07839625445897741\n",
      "\n",
      "pandas corr -0.05231013030609308\n",
      "NumPy corrcoef [[ 1.         -0.05231013]\n",
      " [-0.05231013  1.        ]]\n",
      "thinkstats2 Corr -0.052310130306093085\n",
      "\n",
      "pandas corr spearman -0.08018635792833645\n",
      "thinkstats2 SpearmanCorr -0.08018635792833645\n",
      "thinkstats2 SpearmanCorr log temp -0.08018635792833645\n",
      "\n",
      "thinkstats2 Corr log temp -0.04291414495987875\n",
      "\n"
     ]
    },
    {
     "data": {
      "image/png": "[encoded data removed]",
      "text/plain": [
       "<Figure size 432x288 with 1 Axes>"
      ]
     },
     "metadata": {
      "needs_background": "light"
     },
     "output_type": "display_data"
    }
   ],
   "source": [
    "# February average temperatures in Pennsylvania\n",
    "ScatterPlot(temp.feb_avg_pn, temp.result)\n",
    "Correlations(temp.result_num, temp.feb_avg_pn)"
   ]
  },
  {
   "cell_type": "code",
   "execution_count": 71,
   "metadata": {},
   "outputs": [
    {
     "name": "stdout",
     "output_type": "stream",
     "text": [
      "pandas cov -0.14761169415292352\n",
      "NumPy cov [[ 0.11258918 -0.14633918]\n",
      " [-0.14633918  8.60312452]]\n",
      "thinkstats2 Cov -0.14633917954815698\n",
      "\n",
      "pandas corr -0.14869082944818382\n",
      "NumPy corrcoef [[ 1.         -0.14869083]\n",
      " [-0.14869083  1.        ]]\n",
      "thinkstats2 Corr -0.1486908294481839\n",
      "\n",
      "pandas corr spearman -0.1438639814990308\n",
      "thinkstats2 SpearmanCorr -0.1438639814990308\n",
      "thinkstats2 SpearmanCorr log temp -0.1438639814990308\n",
      "\n",
      "thinkstats2 Corr log temp -0.14815700408479882\n",
      "\n"
     ]
    },
    {
     "name": "stderr",
     "output_type": "stream",
     "text": [
      "C:\\Users\\Christine\\Anaconda3\\lib\\site-packages\\ipykernel_launcher.py:13: DeprecationWarning: bias and ddof have no effect and are deprecated\n",
      "  del sys.path[0]\n"
     ]
    },
    {
     "data": {
      "image/png": "[encoded data removed]",
      "text/plain": [
       "<Figure size 432x288 with 1 Axes>"
      ]
     },
     "metadata": {
      "needs_background": "light"
     },
     "output_type": "display_data"
    }
   ],
   "source": [
    "# March average temperatures\n",
    "ScatterPlot(temp.mar_avg, temp.result)\n",
    "Correlations(temp.result_num, temp.mar_avg)"
   ]
  },
  {
   "cell_type": "code",
   "execution_count": 72,
   "metadata": {},
   "outputs": [
    {
     "name": "stdout",
     "output_type": "stream",
     "text": [
      "pandas cov -0.06413043478260884\n",
      "NumPy cov [[ 0.11258918 -0.06357759]\n",
      " [-0.06357759 14.83721983]]\n",
      "thinkstats2 Cov -0.06357758620689664\n",
      "\n",
      "pandas corr -0.04919029675984465\n"
     ]
    },
    {
     "name": "stderr",
     "output_type": "stream",
     "text": [
      "C:\\Users\\Christine\\Anaconda3\\lib\\site-packages\\ipykernel_launcher.py:13: DeprecationWarning: bias and ddof have no effect and are deprecated\n",
      "  del sys.path[0]\n"
     ]
    },
    {
     "name": "stdout",
     "output_type": "stream",
     "text": [
      "NumPy corrcoef [[ 1.        -0.0491903]\n",
      " [-0.0491903  1.       ]]\n",
      "thinkstats2 Corr -0.04919029675984462\n",
      "\n",
      "pandas corr spearman -0.06906466849221912\n",
      "thinkstats2 SpearmanCorr -0.06906466849221914\n",
      "thinkstats2 SpearmanCorr log temp -0.06906466849221914\n",
      "\n",
      "thinkstats2 Corr log temp -0.058981626784619566\n",
      "\n"
     ]
    },
    {
     "data": {
      "image/png": "[encoded data removed]",
      "text/plain": [
       "<Figure size 432x288 with 1 Axes>"
      ]
     },
     "metadata": {
      "needs_background": "light"
     },
     "output_type": "display_data"
    }
   ],
   "source": [
    "# March average temperatures in the Northeast\n",
    "ScatterPlot(temp.mar_avg_ne, temp.result)\n",
    "Correlations(temp.result_num, temp.mar_avg_ne)"
   ]
  },
  {
   "cell_type": "code",
   "execution_count": 73,
   "metadata": {},
   "outputs": [
    {
     "name": "stdout",
     "output_type": "stream",
     "text": [
      "pandas cov -0.04452023988006\n",
      "NumPy cov [[ 0.11258918 -0.04413644]\n",
      " [-0.04413644 20.56556109]]\n",
      "thinkstats2 Cov -0.04413644470868013\n",
      "\n",
      "pandas corr -0.02900539193370638\n",
      "NumPy corrcoef [[ 1.         -0.02900539]\n",
      " [-0.02900539  1.        ]]\n",
      "thinkstats2 Corr -0.029005391933706354\n",
      "\n",
      "pandas corr spearman -0.030693283740355785\n",
      "thinkstats2 SpearmanCorr -0.030693283740355775\n",
      "thinkstats2 SpearmanCorr log temp -0.030693283740355775\n",
      "\n",
      "thinkstats2 Corr log temp -0.0335612916890956\n",
      "\n"
     ]
    },
    {
     "name": "stderr",
     "output_type": "stream",
     "text": [
      "C:\\Users\\Christine\\Anaconda3\\lib\\site-packages\\ipykernel_launcher.py:13: DeprecationWarning: bias and ddof have no effect and are deprecated\n",
      "  del sys.path[0]\n"
     ]
    },
    {
     "data": {
      "image/png": "[encoded data removed]",
      "text/plain": [
       "<Figure size 432x288 with 1 Axes>"
      ]
     },
     "metadata": {
      "needs_background": "light"
     },
     "output_type": "display_data"
    }
   ],
   "source": [
    "# March average temperatures in the Midwest\n",
    "ScatterPlot(temp.mar_avg_mw, temp.result)\n",
    "Correlations(temp.result_num, temp.mar_avg_mw)"
   ]
  },
  {
   "cell_type": "code",
   "execution_count": 74,
   "metadata": {},
   "outputs": [
    {
     "name": "stdout",
     "output_type": "stream",
     "text": [
      "pandas cov -0.040277361319340434\n",
      "NumPy cov [[ 0.11258918 -0.03993014]\n",
      " [-0.03993014 17.59392613]]\n",
      "thinkstats2 Cov -0.039930142687277154\n",
      "\n",
      "pandas corr -0.02837077195007669\n",
      "NumPy corrcoef [[ 1.         -0.02837077]\n",
      " [-0.02837077  1.        ]]\n",
      "thinkstats2 Corr -0.02837077195007669\n",
      "\n",
      "pandas corr spearman -0.03990103873651902\n",
      "thinkstats2 SpearmanCorr -0.03990103873651901\n"
     ]
    },
    {
     "name": "stderr",
     "output_type": "stream",
     "text": [
      "C:\\Users\\Christine\\Anaconda3\\lib\\site-packages\\ipykernel_launcher.py:13: DeprecationWarning: bias and ddof have no effect and are deprecated\n",
      "  del sys.path[0]\n"
     ]
    },
    {
     "name": "stdout",
     "output_type": "stream",
     "text": [
      "thinkstats2 SpearmanCorr log temp -0.03990103873651901\n",
      "\n",
      "thinkstats2 Corr log temp -0.035855175973268476\n",
      "\n"
     ]
    },
    {
     "data": {
      "image/png": "[encoded data removed]",
      "text/plain": [
       "<Figure size 432x288 with 1 Axes>"
      ]
     },
     "metadata": {
      "needs_background": "light"
     },
     "output_type": "display_data"
    }
   ],
   "source": [
    "# March average temperatures in Pennsylvania\n",
    "ScatterPlot(temp.mar_avg_pn, temp.result)\n",
    "Correlations(temp.result_num, temp.mar_avg_pn)"
   ]
  },
  {
   "cell_type": "code",
   "execution_count": 75,
   "metadata": {},
   "outputs": [],
   "source": [
    "class DiffMeansPermute(thinkstats2.HypothesisTest):\n",
    "    \"\"\"Tests a difference in means by permutation.\"\"\"\n",
    "\n",
    "    def TestStatistic(self, data):\n",
    "        \"\"\"Computes the test statistic.\n",
    "        data: data in whatever form is relevant        \n",
    "        \"\"\"\n",
    "        group1, group2 = data\n",
    "        test_stat = abs(group1.mean() - group2.mean())\n",
    "        return test_stat\n",
    "\n",
    "    def MakeModel(self):\n",
    "        \"\"\"Build a model of the null hypothesis.\n",
    "        \"\"\"\n",
    "        group1, group2 = self.data\n",
    "        self.n, self.m = len(group1), len(group2)\n",
    "        self.pool = np.hstack((group1, group2))\n",
    "\n",
    "    def RunModel(self):\n",
    "        \"\"\"Run the model of the null hypothesis.\n",
    "        returns: simulated data\n",
    "        \"\"\"\n",
    "        np.random.shuffle(self.pool)\n",
    "        data = self.pool[:self.n], self.pool[self.n:]\n",
    "        return data"
   ]
  },
  {
   "cell_type": "code",
   "execution_count": 76,
   "metadata": {},
   "outputs": [],
   "source": [
    "# Create functions for hypothesis tests\n",
    "\n",
    "#Compare monthly temps\n",
    "def hyptest(temp1, temp2):\n",
    "    data = temp1.values, temp2.values\n",
    "    ht = DiffMeansPermute(data)\n",
    "    p1 = ht.PValue(iters=1000)\n",
    "    print(p1)\n",
    "\n"
   ]
  },
  {
   "cell_type": "code",
   "execution_count": 77,
   "metadata": {},
   "outputs": [
    {
     "name": "stdout",
     "output_type": "stream",
     "text": [
      "0.03\n"
     ]
    }
   ],
   "source": [
    "hyptest(shadow.feb_avg, no_shadow.feb_avg)"
   ]
  },
  {
   "cell_type": "code",
   "execution_count": 78,
   "metadata": {},
   "outputs": [
    {
     "name": "stdout",
     "output_type": "stream",
     "text": [
      "0.513\n"
     ]
    }
   ],
   "source": [
    "hyptest(shadow.feb_avg_ne, no_shadow.feb_avg_ne)"
   ]
  },
  {
   "cell_type": "code",
   "execution_count": 79,
   "metadata": {},
   "outputs": [
    {
     "name": "stdout",
     "output_type": "stream",
     "text": [
      "0.395\n"
     ]
    }
   ],
   "source": [
    "hyptest(shadow.feb_avg_mw, no_shadow.feb_avg_mw)"
   ]
  },
  {
   "cell_type": "code",
   "execution_count": 80,
   "metadata": {},
   "outputs": [
    {
     "name": "stdout",
     "output_type": "stream",
     "text": [
      "0.559\n"
     ]
    }
   ],
   "source": [
    "hyptest(shadow.feb_avg_pn, no_shadow.feb_avg_pn)"
   ]
  },
  {
   "cell_type": "code",
   "execution_count": 81,
   "metadata": {},
   "outputs": [
    {
     "name": "stdout",
     "output_type": "stream",
     "text": [
      "0.102\n"
     ]
    }
   ],
   "source": [
    "hyptest(shadow.mar_avg, no_shadow.mar_avg)"
   ]
  },
  {
   "cell_type": "code",
   "execution_count": 82,
   "metadata": {},
   "outputs": [
    {
     "name": "stdout",
     "output_type": "stream",
     "text": [
      "0.606\n"
     ]
    }
   ],
   "source": [
    "hyptest(shadow.mar_avg_ne, no_shadow.mar_avg_ne)"
   ]
  },
  {
   "cell_type": "code",
   "execution_count": 83,
   "metadata": {},
   "outputs": [
    {
     "name": "stdout",
     "output_type": "stream",
     "text": [
      "0.758\n"
     ]
    }
   ],
   "source": [
    "hyptest(shadow.mar_avg_mw, no_shadow.mar_avg_mw)"
   ]
  },
  {
   "cell_type": "code",
   "execution_count": 84,
   "metadata": {},
   "outputs": [
    {
     "name": "stdout",
     "output_type": "stream",
     "text": [
      "0.783\n"
     ]
    }
   ],
   "source": [
    "hyptest(shadow.mar_avg_pn, no_shadow.mar_avg_pn)"
   ]
  },
  {
   "cell_type": "code",
   "execution_count": 85,
   "metadata": {},
   "outputs": [],
   "source": [
    "class CorrelationPermute(thinkstats2.HypothesisTest):\n",
    "    \"\"\"Tests correlations by permutation.\"\"\"\n",
    "\n",
    "    def TestStatistic(self, data):\n",
    "        \"\"\"Computes the test statistic.\n",
    "        data: tuple of xs and ys\n",
    "        \"\"\"\n",
    "        xs, ys = data\n",
    "        test_stat = abs(thinkstats2.Corr(xs, ys))\n",
    "        return test_stat\n",
    "\n",
    "    def RunModel(self):\n",
    "        \"\"\"Run the model of the null hypothesis.\n",
    "        returns: simulated data\n",
    "        \"\"\"\n",
    "        xs, ys = self.data\n",
    "        xs = np.random.permutation(xs)\n",
    "        return xs, ys"
   ]
  },
  {
   "cell_type": "code",
   "execution_count": 86,
   "metadata": {},
   "outputs": [
    {
     "name": "stdout",
     "output_type": "stream",
     "text": [
      "0.027\n"
     ]
    }
   ],
   "source": [
    "#Test correlation of results to feb avg temp\n",
    "\n",
    "temp2 = temp[['result_num', 'feb_avg']]\n",
    "data = temp2.result_num.values, temp2.feb_avg.values\n",
    "ht = CorrelationPermute(data)\n",
    "p3 = ht.PValue(iters=1000)\n",
    "print(p3)"
   ]
  },
  {
   "cell_type": "code",
   "execution_count": 87,
   "metadata": {},
   "outputs": [
    {
     "name": "stdout",
     "output_type": "stream",
     "text": [
      "0.507\n"
     ]
    }
   ],
   "source": [
    "#Test correlation of results to feb avg ne temp\n",
    "\n",
    "temp2 = temp[['result_num', 'feb_avg_ne']]\n",
    "data = temp2.result_num.values, temp2.feb_avg_ne.values\n",
    "ht = CorrelationPermute(data)\n",
    "p3 = ht.PValue(iters=1000)\n",
    "print(p3)\n"
   ]
  },
  {
   "cell_type": "code",
   "execution_count": 88,
   "metadata": {},
   "outputs": [
    {
     "name": "stdout",
     "output_type": "stream",
     "text": [
      "0.41\n"
     ]
    }
   ],
   "source": [
    "#Test correlation of results to feb avg mw temp\n",
    "\n",
    "temp2 = temp[['result_num', 'feb_avg_mw']]\n",
    "data = temp2.result_num.values, temp2.feb_avg_mw.values\n",
    "ht = CorrelationPermute(data)\n",
    "p3 = ht.PValue(iters=1000)\n",
    "print(p3)\n"
   ]
  },
  {
   "cell_type": "code",
   "execution_count": 89,
   "metadata": {},
   "outputs": [
    {
     "name": "stdout",
     "output_type": "stream",
     "text": [
      "0.573\n"
     ]
    }
   ],
   "source": [
    "#Test correlation of results to feb avg pn temp\n",
    "\n",
    "temp2 = temp[['result_num', 'feb_avg_pn']]\n",
    "data = temp2.result_num.values, temp2.feb_avg_pn.values\n",
    "ht = CorrelationPermute(data)\n",
    "p3 = ht.PValue(iters=1000)\n",
    "print(p3)\n"
   ]
  },
  {
   "cell_type": "code",
   "execution_count": 90,
   "metadata": {},
   "outputs": [
    {
     "name": "stdout",
     "output_type": "stream",
     "text": [
      "0.115\n"
     ]
    }
   ],
   "source": [
    "#Test correlation of results to mar avg temp\n",
    "\n",
    "temp2 = temp[['result_num', 'mar_avg']]\n",
    "data = temp2.result_num.values, temp2.mar_avg.values\n",
    "ht = CorrelationPermute(data)\n",
    "p3 = ht.PValue(iters=1000)\n",
    "print(p3)"
   ]
  },
  {
   "cell_type": "code",
   "execution_count": 91,
   "metadata": {},
   "outputs": [
    {
     "name": "stdout",
     "output_type": "stream",
     "text": [
      "0.622\n"
     ]
    }
   ],
   "source": [
    "#Test correlation of results to mar avg ne temp\n",
    "\n",
    "temp2 = temp[['result_num', 'mar_avg_ne']]\n",
    "data = temp2.result_num.values, temp2.mar_avg_ne.values\n",
    "ht = CorrelationPermute(data)\n",
    "p3 = ht.PValue(iters=1000)\n",
    "print(p3)"
   ]
  },
  {
   "cell_type": "code",
   "execution_count": 92,
   "metadata": {},
   "outputs": [
    {
     "name": "stdout",
     "output_type": "stream",
     "text": [
      "0.757\n"
     ]
    }
   ],
   "source": [
    "#Test correlation of results to mar avg mw temp\n",
    "\n",
    "temp2 = temp[['result_num', 'mar_avg_mw']]\n",
    "data = temp2.result_num.values, temp2.mar_avg_mw.values\n",
    "ht = CorrelationPermute(data)\n",
    "p3 = ht.PValue(iters=1000)\n",
    "print(p3)"
   ]
  },
  {
   "cell_type": "code",
   "execution_count": 93,
   "metadata": {},
   "outputs": [
    {
     "name": "stdout",
     "output_type": "stream",
     "text": [
      "0.77\n"
     ]
    }
   ],
   "source": [
    "#Test correlation of results to mar avg pn temp\n",
    "\n",
    "temp2 = temp[['result_num', 'mar_avg_pn']]\n",
    "data = temp2.result_num.values, temp2.mar_avg_pn.values\n",
    "ht = CorrelationPermute(data)\n",
    "p3 = ht.PValue(iters=1000)\n",
    "print(p3)"
   ]
  },
  {
   "cell_type": "code",
   "execution_count": 94,
   "metadata": {},
   "outputs": [
    {
     "data": {
      "text/html": [
       "<table class=\"simpletable\">\n",
       "<caption>OLS Regression Results</caption>\n",
       "<tr>\n",
       "  <th>Dep. Variable:</th>     <td>temp.feb_avg_pn</td> <th>  R-squared:         </th> <td>   0.003</td>\n",
       "</tr>\n",
       "<tr>\n",
       "  <th>Model:</th>                   <td>OLS</td>       <th>  Adj. R-squared:    </th> <td>  -0.006</td>\n",
       "</tr>\n",
       "<tr>\n",
       "  <th>Method:</th>             <td>Least Squares</td>  <th>  F-statistic:       </th> <td>  0.3128</td>\n",
       "</tr>\n",
       "<tr>\n",
       "  <th>Date:</th>             <td>Tue, 28 May 2019</td> <th>  Prob (F-statistic):</th>  <td> 0.577</td> \n",
       "</tr>\n",
       "<tr>\n",
       "  <th>Time:</th>                 <td>18:48:03</td>     <th>  Log-Likelihood:    </th> <td> -338.04</td>\n",
       "</tr>\n",
       "<tr>\n",
       "  <th>No. Observations:</th>      <td>   116</td>      <th>  AIC:               </th> <td>   680.1</td>\n",
       "</tr>\n",
       "<tr>\n",
       "  <th>Df Residuals:</th>          <td>   114</td>      <th>  BIC:               </th> <td>   685.6</td>\n",
       "</tr>\n",
       "<tr>\n",
       "  <th>Df Model:</th>              <td>     1</td>      <th>                     </th>     <td> </td>   \n",
       "</tr>\n",
       "<tr>\n",
       "  <th>Covariance Type:</th>      <td>nonrobust</td>    <th>                     </th>     <td> </td>   \n",
       "</tr>\n",
       "</table>\n",
       "<table class=\"simpletable\">\n",
       "<tr>\n",
       "         <td></td>            <th>coef</th>     <th>std err</th>      <th>t</th>      <th>P>|t|</th>  <th>[0.025</th>    <th>0.975]</th>  \n",
       "</tr>\n",
       "<tr>\n",
       "  <th>Intercept</th>       <td>   27.2933</td> <td>    1.162</td> <td>   23.494</td> <td> 0.000</td> <td>   24.992</td> <td>   29.595</td>\n",
       "</tr>\n",
       "<tr>\n",
       "  <th>temp.result_num</th> <td>   -0.6963</td> <td>    1.245</td> <td>   -0.559</td> <td> 0.577</td> <td>   -3.163</td> <td>    1.770</td>\n",
       "</tr>\n",
       "</table>\n",
       "<table class=\"simpletable\">\n",
       "<tr>\n",
       "  <th>Omnibus:</th>       <td> 3.111</td> <th>  Durbin-Watson:     </th> <td>   1.547</td>\n",
       "</tr>\n",
       "<tr>\n",
       "  <th>Prob(Omnibus):</th> <td> 0.211</td> <th>  Jarque-Bera (JB):  </th> <td>   3.132</td>\n",
       "</tr>\n",
       "<tr>\n",
       "  <th>Skew:</th>          <td>-0.383</td> <th>  Prob(JB):          </th> <td>   0.209</td>\n",
       "</tr>\n",
       "<tr>\n",
       "  <th>Kurtosis:</th>      <td> 2.752</td> <th>  Cond. No.          </th> <td>    5.39</td>\n",
       "</tr>\n",
       "</table><br/><br/>Warnings:<br/>[1] Standard Errors assume that the covariance matrix of the errors is correctly specified."
      ],
      "text/plain": [
       "<class 'statsmodels.iolib.summary.Summary'>\n",
       "\"\"\"\n",
       "                            OLS Regression Results                            \n",
       "==============================================================================\n",
       "Dep. Variable:        temp.feb_avg_pn   R-squared:                       0.003\n",
       "Model:                            OLS   Adj. R-squared:                 -0.006\n",
       "Method:                 Least Squares   F-statistic:                    0.3128\n",
       "Date:                Tue, 28 May 2019   Prob (F-statistic):              0.577\n",
       "Time:                        18:48:03   Log-Likelihood:                -338.04\n",
       "No. Observations:                 116   AIC:                             680.1\n",
       "Df Residuals:                     114   BIC:                             685.6\n",
       "Df Model:                           1                                         \n",
       "Covariance Type:            nonrobust                                         \n",
       "===================================================================================\n",
       "                      coef    std err          t      P>|t|      [0.025      0.975]\n",
       "-----------------------------------------------------------------------------------\n",
       "Intercept          27.2933      1.162     23.494      0.000      24.992      29.595\n",
       "temp.result_num    -0.6963      1.245     -0.559      0.577      -3.163       1.770\n",
       "==============================================================================\n",
       "Omnibus:                        3.111   Durbin-Watson:                   1.547\n",
       "Prob(Omnibus):                  0.211   Jarque-Bera (JB):                3.132\n",
       "Skew:                          -0.383   Prob(JB):                        0.209\n",
       "Kurtosis:                       2.752   Cond. No.                         5.39\n",
       "==============================================================================\n",
       "\n",
       "Warnings:\n",
       "[1] Standard Errors assume that the covariance matrix of the errors is correctly specified.\n",
       "\"\"\""
      ]
     },
     "execution_count": 94,
     "metadata": {},
     "output_type": "execute_result"
    }
   ],
   "source": [
    "# Regression model for feb avg temp in pn as a function of the groundhog's shadow\n",
    "\n",
    "\n",
    "formula = 'temp.feb_avg_pn ~ temp.result_num'\n",
    "model = smf.ols(formula, data = temp)\n",
    "results = model.fit()\n",
    "results.summary()"
   ]
  },
  {
   "cell_type": "code",
   "execution_count": 95,
   "metadata": {},
   "outputs": [
    {
     "data": {
      "text/html": [
       "<table class=\"simpletable\">\n",
       "<caption>OLS Regression Results</caption>\n",
       "<tr>\n",
       "  <th>Dep. Variable:</th>     <td>temp.mar_avg_pn</td> <th>  R-squared:         </th> <td>   0.001</td>\n",
       "</tr>\n",
       "<tr>\n",
       "  <th>Model:</th>                   <td>OLS</td>       <th>  Adj. R-squared:    </th> <td>  -0.008</td>\n",
       "</tr>\n",
       "<tr>\n",
       "  <th>Method:</th>             <td>Least Squares</td>  <th>  F-statistic:       </th> <td> 0.09183</td>\n",
       "</tr>\n",
       "<tr>\n",
       "  <th>Date:</th>             <td>Tue, 28 May 2019</td> <th>  Prob (F-statistic):</th>  <td> 0.762</td> \n",
       "</tr>\n",
       "<tr>\n",
       "  <th>Time:</th>                 <td>18:48:03</td>     <th>  Log-Likelihood:    </th> <td> -330.87</td>\n",
       "</tr>\n",
       "<tr>\n",
       "  <th>No. Observations:</th>      <td>   116</td>      <th>  AIC:               </th> <td>   665.7</td>\n",
       "</tr>\n",
       "<tr>\n",
       "  <th>Df Residuals:</th>          <td>   114</td>      <th>  BIC:               </th> <td>   671.2</td>\n",
       "</tr>\n",
       "<tr>\n",
       "  <th>Df Model:</th>              <td>     1</td>      <th>                     </th>     <td> </td>   \n",
       "</tr>\n",
       "<tr>\n",
       "  <th>Covariance Type:</th>      <td>nonrobust</td>    <th>                     </th>     <td> </td>   \n",
       "</tr>\n",
       "</table>\n",
       "<table class=\"simpletable\">\n",
       "<tr>\n",
       "         <td></td>            <th>coef</th>     <th>std err</th>      <th>t</th>      <th>P>|t|</th>  <th>[0.025</th>    <th>0.975]</th>  \n",
       "</tr>\n",
       "<tr>\n",
       "  <th>Intercept</th>       <td>   36.3200</td> <td>    1.092</td> <td>   33.259</td> <td> 0.000</td> <td>   34.157</td> <td>   38.483</td>\n",
       "</tr>\n",
       "<tr>\n",
       "  <th>temp.result_num</th> <td>   -0.3547</td> <td>    1.170</td> <td>   -0.303</td> <td> 0.762</td> <td>   -2.673</td> <td>    1.964</td>\n",
       "</tr>\n",
       "</table>\n",
       "<table class=\"simpletable\">\n",
       "<tr>\n",
       "  <th>Omnibus:</th>       <td> 1.439</td> <th>  Durbin-Watson:     </th> <td>   2.150</td>\n",
       "</tr>\n",
       "<tr>\n",
       "  <th>Prob(Omnibus):</th> <td> 0.487</td> <th>  Jarque-Bera (JB):  </th> <td>   1.211</td>\n",
       "</tr>\n",
       "<tr>\n",
       "  <th>Skew:</th>          <td> 0.250</td> <th>  Prob(JB):          </th> <td>   0.546</td>\n",
       "</tr>\n",
       "<tr>\n",
       "  <th>Kurtosis:</th>      <td> 3.021</td> <th>  Cond. No.          </th> <td>    5.39</td>\n",
       "</tr>\n",
       "</table><br/><br/>Warnings:<br/>[1] Standard Errors assume that the covariance matrix of the errors is correctly specified."
      ],
      "text/plain": [
       "<class 'statsmodels.iolib.summary.Summary'>\n",
       "\"\"\"\n",
       "                            OLS Regression Results                            \n",
       "==============================================================================\n",
       "Dep. Variable:        temp.mar_avg_pn   R-squared:                       0.001\n",
       "Model:                            OLS   Adj. R-squared:                 -0.008\n",
       "Method:                 Least Squares   F-statistic:                   0.09183\n",
       "Date:                Tue, 28 May 2019   Prob (F-statistic):              0.762\n",
       "Time:                        18:48:03   Log-Likelihood:                -330.87\n",
       "No. Observations:                 116   AIC:                             665.7\n",
       "Df Residuals:                     114   BIC:                             671.2\n",
       "Df Model:                           1                                         \n",
       "Covariance Type:            nonrobust                                         \n",
       "===================================================================================\n",
       "                      coef    std err          t      P>|t|      [0.025      0.975]\n",
       "-----------------------------------------------------------------------------------\n",
       "Intercept          36.3200      1.092     33.259      0.000      34.157      38.483\n",
       "temp.result_num    -0.3547      1.170     -0.303      0.762      -2.673       1.964\n",
       "==============================================================================\n",
       "Omnibus:                        1.439   Durbin-Watson:                   2.150\n",
       "Prob(Omnibus):                  0.487   Jarque-Bera (JB):                1.211\n",
       "Skew:                           0.250   Prob(JB):                        0.546\n",
       "Kurtosis:                       3.021   Cond. No.                         5.39\n",
       "==============================================================================\n",
       "\n",
       "Warnings:\n",
       "[1] Standard Errors assume that the covariance matrix of the errors is correctly specified.\n",
       "\"\"\""
      ]
     },
     "execution_count": 95,
     "metadata": {},
     "output_type": "execute_result"
    }
   ],
   "source": [
    "# Regression model for mar avg temp in pn as a function of the groundhog's shadow\n",
    "\n",
    "formula = 'temp.mar_avg_pn ~ temp.result_num'\n",
    "model = smf.ols(formula, data = temp)\n",
    "results = model.fit()\n",
    "results.summary()"
   ]
  },
  {
   "cell_type": "code",
   "execution_count": 96,
   "metadata": {},
   "outputs": [
    {
     "data": {
      "text/html": [
       "<table class=\"simpletable\">\n",
       "<caption>OLS Regression Results</caption>\n",
       "<tr>\n",
       "  <th>Dep. Variable:</th>     <td>temp.feb_avg_ne</td> <th>  R-squared:         </th> <td>   0.004</td>\n",
       "</tr>\n",
       "<tr>\n",
       "  <th>Model:</th>                   <td>OLS</td>       <th>  Adj. R-squared:    </th> <td>  -0.005</td>\n",
       "</tr>\n",
       "<tr>\n",
       "  <th>Method:</th>             <td>Least Squares</td>  <th>  F-statistic:       </th> <td>  0.4315</td>\n",
       "</tr>\n",
       "<tr>\n",
       "  <th>Date:</th>             <td>Tue, 28 May 2019</td> <th>  Prob (F-statistic):</th>  <td> 0.513</td> \n",
       "</tr>\n",
       "<tr>\n",
       "  <th>Time:</th>                 <td>18:48:03</td>     <th>  Log-Likelihood:    </th> <td> -333.39</td>\n",
       "</tr>\n",
       "<tr>\n",
       "  <th>No. Observations:</th>      <td>   116</td>      <th>  AIC:               </th> <td>   670.8</td>\n",
       "</tr>\n",
       "<tr>\n",
       "  <th>Df Residuals:</th>          <td>   114</td>      <th>  BIC:               </th> <td>   676.3</td>\n",
       "</tr>\n",
       "<tr>\n",
       "  <th>Df Model:</th>              <td>     1</td>      <th>                     </th>     <td> </td>   \n",
       "</tr>\n",
       "<tr>\n",
       "  <th>Covariance Type:</th>      <td>nonrobust</td>    <th>                     </th>     <td> </td>   \n",
       "</tr>\n",
       "</table>\n",
       "<table class=\"simpletable\">\n",
       "<tr>\n",
       "         <td></td>            <th>coef</th>     <th>std err</th>      <th>t</th>      <th>P>|t|</th>  <th>[0.025</th>    <th>0.975]</th>  \n",
       "</tr>\n",
       "<tr>\n",
       "  <th>Intercept</th>       <td>   23.4867</td> <td>    1.116</td> <td>   21.046</td> <td> 0.000</td> <td>   21.276</td> <td>   25.697</td>\n",
       "</tr>\n",
       "<tr>\n",
       "  <th>temp.result_num</th> <td>   -0.7857</td> <td>    1.196</td> <td>   -0.657</td> <td> 0.513</td> <td>   -3.155</td> <td>    1.584</td>\n",
       "</tr>\n",
       "</table>\n",
       "<table class=\"simpletable\">\n",
       "<tr>\n",
       "  <th>Omnibus:</th>       <td> 2.782</td> <th>  Durbin-Watson:     </th> <td>   1.601</td>\n",
       "</tr>\n",
       "<tr>\n",
       "  <th>Prob(Omnibus):</th> <td> 0.249</td> <th>  Jarque-Bera (JB):  </th> <td>   2.640</td>\n",
       "</tr>\n",
       "<tr>\n",
       "  <th>Skew:</th>          <td>-0.368</td> <th>  Prob(JB):          </th> <td>   0.267</td>\n",
       "</tr>\n",
       "<tr>\n",
       "  <th>Kurtosis:</th>      <td> 2.926</td> <th>  Cond. No.          </th> <td>    5.39</td>\n",
       "</tr>\n",
       "</table><br/><br/>Warnings:<br/>[1] Standard Errors assume that the covariance matrix of the errors is correctly specified."
      ],
      "text/plain": [
       "<class 'statsmodels.iolib.summary.Summary'>\n",
       "\"\"\"\n",
       "                            OLS Regression Results                            \n",
       "==============================================================================\n",
       "Dep. Variable:        temp.feb_avg_ne   R-squared:                       0.004\n",
       "Model:                            OLS   Adj. R-squared:                 -0.005\n",
       "Method:                 Least Squares   F-statistic:                    0.4315\n",
       "Date:                Tue, 28 May 2019   Prob (F-statistic):              0.513\n",
       "Time:                        18:48:03   Log-Likelihood:                -333.39\n",
       "No. Observations:                 116   AIC:                             670.8\n",
       "Df Residuals:                     114   BIC:                             676.3\n",
       "Df Model:                           1                                         \n",
       "Covariance Type:            nonrobust                                         \n",
       "===================================================================================\n",
       "                      coef    std err          t      P>|t|      [0.025      0.975]\n",
       "-----------------------------------------------------------------------------------\n",
       "Intercept          23.4867      1.116     21.046      0.000      21.276      25.697\n",
       "temp.result_num    -0.7857      1.196     -0.657      0.513      -3.155       1.584\n",
       "==============================================================================\n",
       "Omnibus:                        2.782   Durbin-Watson:                   1.601\n",
       "Prob(Omnibus):                  0.249   Jarque-Bera (JB):                2.640\n",
       "Skew:                          -0.368   Prob(JB):                        0.267\n",
       "Kurtosis:                       2.926   Cond. No.                         5.39\n",
       "==============================================================================\n",
       "\n",
       "Warnings:\n",
       "[1] Standard Errors assume that the covariance matrix of the errors is correctly specified.\n",
       "\"\"\""
      ]
     },
     "execution_count": 96,
     "metadata": {},
     "output_type": "execute_result"
    }
   ],
   "source": [
    "# Regression model for feb avg temp in ne as a function of the groundhog's shadow\n",
    "\n",
    "formula = 'temp.feb_avg_ne ~ temp.result_num'\n",
    "model = smf.ols(formula, data = temp)\n",
    "results = model.fit()\n",
    "results.summary()"
   ]
  },
  {
   "cell_type": "code",
   "execution_count": 97,
   "metadata": {},
   "outputs": [
    {
     "data": {
      "text/html": [
       "<table class=\"simpletable\">\n",
       "<caption>OLS Regression Results</caption>\n",
       "<tr>\n",
       "  <th>Dep. Variable:</th>     <td>temp.mar_avg_ne</td> <th>  R-squared:         </th> <td>   0.002</td>\n",
       "</tr>\n",
       "<tr>\n",
       "  <th>Model:</th>                   <td>OLS</td>       <th>  Adj. R-squared:    </th> <td>  -0.006</td>\n",
       "</tr>\n",
       "<tr>\n",
       "  <th>Method:</th>             <td>Least Squares</td>  <th>  F-statistic:       </th> <td>  0.2765</td>\n",
       "</tr>\n",
       "<tr>\n",
       "  <th>Date:</th>             <td>Tue, 28 May 2019</td> <th>  Prob (F-statistic):</th>  <td> 0.600</td> \n",
       "</tr>\n",
       "<tr>\n",
       "  <th>Time:</th>                 <td>18:48:03</td>     <th>  Log-Likelihood:    </th> <td> -320.89</td>\n",
       "</tr>\n",
       "<tr>\n",
       "  <th>No. Observations:</th>      <td>   116</td>      <th>  AIC:               </th> <td>   645.8</td>\n",
       "</tr>\n",
       "<tr>\n",
       "  <th>Df Residuals:</th>          <td>   114</td>      <th>  BIC:               </th> <td>   651.3</td>\n",
       "</tr>\n",
       "<tr>\n",
       "  <th>Df Model:</th>              <td>     1</td>      <th>                     </th>     <td> </td>   \n",
       "</tr>\n",
       "<tr>\n",
       "  <th>Covariance Type:</th>      <td>nonrobust</td>    <th>                     </th>     <td> </td>   \n",
       "</tr>\n",
       "</table>\n",
       "<table class=\"simpletable\">\n",
       "<tr>\n",
       "         <td></td>            <th>coef</th>     <th>std err</th>      <th>t</th>      <th>P>|t|</th>  <th>[0.025</th>    <th>0.975]</th>  \n",
       "</tr>\n",
       "<tr>\n",
       "  <th>Intercept</th>       <td>   32.9667</td> <td>    1.002</td> <td>   32.900</td> <td> 0.000</td> <td>   30.982</td> <td>   34.952</td>\n",
       "</tr>\n",
       "<tr>\n",
       "  <th>temp.result_num</th> <td>   -0.5647</td> <td>    1.074</td> <td>   -0.526</td> <td> 0.600</td> <td>   -2.692</td> <td>    1.563</td>\n",
       "</tr>\n",
       "</table>\n",
       "<table class=\"simpletable\">\n",
       "<tr>\n",
       "  <th>Omnibus:</th>       <td> 2.640</td> <th>  Durbin-Watson:     </th> <td>   2.172</td>\n",
       "</tr>\n",
       "<tr>\n",
       "  <th>Prob(Omnibus):</th> <td> 0.267</td> <th>  Jarque-Bera (JB):  </th> <td>   2.380</td>\n",
       "</tr>\n",
       "<tr>\n",
       "  <th>Skew:</th>          <td> 0.351</td> <th>  Prob(JB):          </th> <td>   0.304</td>\n",
       "</tr>\n",
       "<tr>\n",
       "  <th>Kurtosis:</th>      <td> 3.013</td> <th>  Cond. No.          </th> <td>    5.39</td>\n",
       "</tr>\n",
       "</table><br/><br/>Warnings:<br/>[1] Standard Errors assume that the covariance matrix of the errors is correctly specified."
      ],
      "text/plain": [
       "<class 'statsmodels.iolib.summary.Summary'>\n",
       "\"\"\"\n",
       "                            OLS Regression Results                            \n",
       "==============================================================================\n",
       "Dep. Variable:        temp.mar_avg_ne   R-squared:                       0.002\n",
       "Model:                            OLS   Adj. R-squared:                 -0.006\n",
       "Method:                 Least Squares   F-statistic:                    0.2765\n",
       "Date:                Tue, 28 May 2019   Prob (F-statistic):              0.600\n",
       "Time:                        18:48:03   Log-Likelihood:                -320.89\n",
       "No. Observations:                 116   AIC:                             645.8\n",
       "Df Residuals:                     114   BIC:                             651.3\n",
       "Df Model:                           1                                         \n",
       "Covariance Type:            nonrobust                                         \n",
       "===================================================================================\n",
       "                      coef    std err          t      P>|t|      [0.025      0.975]\n",
       "-----------------------------------------------------------------------------------\n",
       "Intercept          32.9667      1.002     32.900      0.000      30.982      34.952\n",
       "temp.result_num    -0.5647      1.074     -0.526      0.600      -2.692       1.563\n",
       "==============================================================================\n",
       "Omnibus:                        2.640   Durbin-Watson:                   2.172\n",
       "Prob(Omnibus):                  0.267   Jarque-Bera (JB):                2.380\n",
       "Skew:                           0.351   Prob(JB):                        0.304\n",
       "Kurtosis:                       3.013   Cond. No.                         5.39\n",
       "==============================================================================\n",
       "\n",
       "Warnings:\n",
       "[1] Standard Errors assume that the covariance matrix of the errors is correctly specified.\n",
       "\"\"\""
      ]
     },
     "execution_count": 97,
     "metadata": {},
     "output_type": "execute_result"
    }
   ],
   "source": [
    "# Regression model for mar avg temp in ne as a function of the groundhog's shadow\n",
    "\n",
    "formula = 'temp.mar_avg_ne ~ temp.result_num'\n",
    "model = smf.ols(formula, data = temp)\n",
    "results = model.fit()\n",
    "results.summary()"
   ]
  },
  {
   "cell_type": "code",
   "execution_count": 98,
   "metadata": {},
   "outputs": [
    {
     "data": {
      "text/html": [
       "<table class=\"simpletable\">\n",
       "<caption>OLS Regression Results</caption>\n",
       "<tr>\n",
       "  <th>Dep. Variable:</th>     <td>temp.feb_avg_mw</td> <th>  R-squared:         </th> <td>   0.006</td>\n",
       "</tr>\n",
       "<tr>\n",
       "  <th>Model:</th>                   <td>OLS</td>       <th>  Adj. R-squared:    </th> <td>  -0.003</td>\n",
       "</tr>\n",
       "<tr>\n",
       "  <th>Method:</th>             <td>Least Squares</td>  <th>  F-statistic:       </th> <td>  0.6954</td>\n",
       "</tr>\n",
       "<tr>\n",
       "  <th>Date:</th>             <td>Tue, 28 May 2019</td> <th>  Prob (F-statistic):</th>  <td> 0.406</td> \n",
       "</tr>\n",
       "<tr>\n",
       "  <th>Time:</th>                 <td>18:48:04</td>     <th>  Log-Likelihood:    </th> <td> -343.16</td>\n",
       "</tr>\n",
       "<tr>\n",
       "  <th>No. Observations:</th>      <td>   116</td>      <th>  AIC:               </th> <td>   690.3</td>\n",
       "</tr>\n",
       "<tr>\n",
       "  <th>Df Residuals:</th>          <td>   114</td>      <th>  BIC:               </th> <td>   695.8</td>\n",
       "</tr>\n",
       "<tr>\n",
       "  <th>Df Model:</th>              <td>     1</td>      <th>                     </th>     <td> </td>   \n",
       "</tr>\n",
       "<tr>\n",
       "  <th>Covariance Type:</th>      <td>nonrobust</td>    <th>                     </th>     <td> </td>   \n",
       "</tr>\n",
       "</table>\n",
       "<table class=\"simpletable\">\n",
       "<tr>\n",
       "         <td></td>            <th>coef</th>     <th>std err</th>      <th>t</th>      <th>P>|t|</th>  <th>[0.025</th>    <th>0.975]</th>  \n",
       "</tr>\n",
       "<tr>\n",
       "  <th>Intercept</th>       <td>   33.8533</td> <td>    1.214</td> <td>   27.885</td> <td> 0.000</td> <td>   31.448</td> <td>   36.258</td>\n",
       "</tr>\n",
       "<tr>\n",
       "  <th>temp.result_num</th> <td>   -1.0850</td> <td>    1.301</td> <td>   -0.834</td> <td> 0.406</td> <td>   -3.662</td> <td>    1.492</td>\n",
       "</tr>\n",
       "</table>\n",
       "<table class=\"simpletable\">\n",
       "<tr>\n",
       "  <th>Omnibus:</th>       <td> 2.377</td> <th>  Durbin-Watson:     </th> <td>   1.619</td>\n",
       "</tr>\n",
       "<tr>\n",
       "  <th>Prob(Omnibus):</th> <td> 0.305</td> <th>  Jarque-Bera (JB):  </th> <td>   2.200</td>\n",
       "</tr>\n",
       "<tr>\n",
       "  <th>Skew:</th>          <td>-0.249</td> <th>  Prob(JB):          </th> <td>   0.333</td>\n",
       "</tr>\n",
       "<tr>\n",
       "  <th>Kurtosis:</th>      <td> 2.546</td> <th>  Cond. No.          </th> <td>    5.39</td>\n",
       "</tr>\n",
       "</table><br/><br/>Warnings:<br/>[1] Standard Errors assume that the covariance matrix of the errors is correctly specified."
      ],
      "text/plain": [
       "<class 'statsmodels.iolib.summary.Summary'>\n",
       "\"\"\"\n",
       "                            OLS Regression Results                            \n",
       "==============================================================================\n",
       "Dep. Variable:        temp.feb_avg_mw   R-squared:                       0.006\n",
       "Model:                            OLS   Adj. R-squared:                 -0.003\n",
       "Method:                 Least Squares   F-statistic:                    0.6954\n",
       "Date:                Tue, 28 May 2019   Prob (F-statistic):              0.406\n",
       "Time:                        18:48:04   Log-Likelihood:                -343.16\n",
       "No. Observations:                 116   AIC:                             690.3\n",
       "Df Residuals:                     114   BIC:                             695.8\n",
       "Df Model:                           1                                         \n",
       "Covariance Type:            nonrobust                                         \n",
       "===================================================================================\n",
       "                      coef    std err          t      P>|t|      [0.025      0.975]\n",
       "-----------------------------------------------------------------------------------\n",
       "Intercept          33.8533      1.214     27.885      0.000      31.448      36.258\n",
       "temp.result_num    -1.0850      1.301     -0.834      0.406      -3.662       1.492\n",
       "==============================================================================\n",
       "Omnibus:                        2.377   Durbin-Watson:                   1.619\n",
       "Prob(Omnibus):                  0.305   Jarque-Bera (JB):                2.200\n",
       "Skew:                          -0.249   Prob(JB):                        0.333\n",
       "Kurtosis:                       2.546   Cond. No.                         5.39\n",
       "==============================================================================\n",
       "\n",
       "Warnings:\n",
       "[1] Standard Errors assume that the covariance matrix of the errors is correctly specified.\n",
       "\"\"\""
      ]
     },
     "execution_count": 98,
     "metadata": {},
     "output_type": "execute_result"
    }
   ],
   "source": [
    "# Regression model for feb avg temp in mw as a function of the groundhog's shadow\n",
    "\n",
    "formula = 'temp.feb_avg_mw ~ temp.result_num'\n",
    "model = smf.ols(formula, data = temp)\n",
    "results = model.fit()\n",
    "results.summary()"
   ]
  },
  {
   "cell_type": "code",
   "execution_count": 99,
   "metadata": {},
   "outputs": [
    {
     "data": {
      "text/html": [
       "<table class=\"simpletable\">\n",
       "<caption>OLS Regression Results</caption>\n",
       "<tr>\n",
       "  <th>Dep. Variable:</th>     <td>temp.mar_avg_mw</td> <th>  R-squared:         </th> <td>   0.001</td>\n",
       "</tr>\n",
       "<tr>\n",
       "  <th>Model:</th>                   <td>OLS</td>       <th>  Adj. R-squared:    </th> <td>  -0.008</td>\n",
       "</tr>\n",
       "<tr>\n",
       "  <th>Method:</th>             <td>Least Squares</td>  <th>  F-statistic:       </th> <td> 0.09599</td>\n",
       "</tr>\n",
       "<tr>\n",
       "  <th>Date:</th>             <td>Tue, 28 May 2019</td> <th>  Prob (F-statistic):</th>  <td> 0.757</td> \n",
       "</tr>\n",
       "<tr>\n",
       "  <th>Time:</th>                 <td>18:48:04</td>     <th>  Log-Likelihood:    </th> <td> -339.92</td>\n",
       "</tr>\n",
       "<tr>\n",
       "  <th>No. Observations:</th>      <td>   116</td>      <th>  AIC:               </th> <td>   683.8</td>\n",
       "</tr>\n",
       "<tr>\n",
       "  <th>Df Residuals:</th>          <td>   114</td>      <th>  BIC:               </th> <td>   689.3</td>\n",
       "</tr>\n",
       "<tr>\n",
       "  <th>Df Model:</th>              <td>     1</td>      <th>                     </th>     <td> </td>   \n",
       "</tr>\n",
       "<tr>\n",
       "  <th>Covariance Type:</th>      <td>nonrobust</td>    <th>                     </th>     <td> </td>   \n",
       "</tr>\n",
       "</table>\n",
       "<table class=\"simpletable\">\n",
       "<tr>\n",
       "         <td></td>            <th>coef</th>     <th>std err</th>      <th>t</th>      <th>P>|t|</th>  <th>[0.025</th>    <th>0.975]</th>  \n",
       "</tr>\n",
       "<tr>\n",
       "  <th>Intercept</th>       <td>   43.0267</td> <td>    1.181</td> <td>   36.443</td> <td> 0.000</td> <td>   40.688</td> <td>   45.366</td>\n",
       "</tr>\n",
       "<tr>\n",
       "  <th>temp.result_num</th> <td>   -0.3920</td> <td>    1.265</td> <td>   -0.310</td> <td> 0.757</td> <td>   -2.899</td> <td>    2.114</td>\n",
       "</tr>\n",
       "</table>\n",
       "<table class=\"simpletable\">\n",
       "<tr>\n",
       "  <th>Omnibus:</th>       <td> 1.016</td> <th>  Durbin-Watson:     </th> <td>   2.111</td>\n",
       "</tr>\n",
       "<tr>\n",
       "  <th>Prob(Omnibus):</th> <td> 0.602</td> <th>  Jarque-Bera (JB):  </th> <td>   0.569</td>\n",
       "</tr>\n",
       "<tr>\n",
       "  <th>Skew:</th>          <td> 0.084</td> <th>  Prob(JB):          </th> <td>   0.752</td>\n",
       "</tr>\n",
       "<tr>\n",
       "  <th>Kurtosis:</th>      <td> 3.299</td> <th>  Cond. No.          </th> <td>    5.39</td>\n",
       "</tr>\n",
       "</table><br/><br/>Warnings:<br/>[1] Standard Errors assume that the covariance matrix of the errors is correctly specified."
      ],
      "text/plain": [
       "<class 'statsmodels.iolib.summary.Summary'>\n",
       "\"\"\"\n",
       "                            OLS Regression Results                            \n",
       "==============================================================================\n",
       "Dep. Variable:        temp.mar_avg_mw   R-squared:                       0.001\n",
       "Model:                            OLS   Adj. R-squared:                 -0.008\n",
       "Method:                 Least Squares   F-statistic:                   0.09599\n",
       "Date:                Tue, 28 May 2019   Prob (F-statistic):              0.757\n",
       "Time:                        18:48:04   Log-Likelihood:                -339.92\n",
       "No. Observations:                 116   AIC:                             683.8\n",
       "Df Residuals:                     114   BIC:                             689.3\n",
       "Df Model:                           1                                         \n",
       "Covariance Type:            nonrobust                                         \n",
       "===================================================================================\n",
       "                      coef    std err          t      P>|t|      [0.025      0.975]\n",
       "-----------------------------------------------------------------------------------\n",
       "Intercept          43.0267      1.181     36.443      0.000      40.688      45.366\n",
       "temp.result_num    -0.3920      1.265     -0.310      0.757      -2.899       2.114\n",
       "==============================================================================\n",
       "Omnibus:                        1.016   Durbin-Watson:                   2.111\n",
       "Prob(Omnibus):                  0.602   Jarque-Bera (JB):                0.569\n",
       "Skew:                           0.084   Prob(JB):                        0.752\n",
       "Kurtosis:                       3.299   Cond. No.                         5.39\n",
       "==============================================================================\n",
       "\n",
       "Warnings:\n",
       "[1] Standard Errors assume that the covariance matrix of the errors is correctly specified.\n",
       "\"\"\""
      ]
     },
     "execution_count": 99,
     "metadata": {},
     "output_type": "execute_result"
    }
   ],
   "source": [
    "# Regression model for mar avg temp in mw as a function of the groundhog's shadow\n",
    "\n",
    "formula = 'temp.mar_avg_mw ~ temp.result_num'\n",
    "model = smf.ols(formula, data = temp)\n",
    "results = model.fit()\n",
    "results.summary()"
   ]
  },
  {
   "cell_type": "code",
   "execution_count": 100,
   "metadata": {},
   "outputs": [
    {
     "data": {
      "text/html": [
       "<table class=\"simpletable\">\n",
       "<caption>OLS Regression Results</caption>\n",
       "<tr>\n",
       "  <th>Dep. Variable:</th>      <td>temp.feb_avg</td>   <th>  R-squared:         </th> <td>   0.040</td>\n",
       "</tr>\n",
       "<tr>\n",
       "  <th>Model:</th>                   <td>OLS</td>       <th>  Adj. R-squared:    </th> <td>   0.032</td>\n",
       "</tr>\n",
       "<tr>\n",
       "  <th>Method:</th>             <td>Least Squares</td>  <th>  F-statistic:       </th> <td>   4.768</td>\n",
       "</tr>\n",
       "<tr>\n",
       "  <th>Date:</th>             <td>Tue, 28 May 2019</td> <th>  Prob (F-statistic):</th>  <td>0.0310</td> \n",
       "</tr>\n",
       "<tr>\n",
       "  <th>Time:</th>                 <td>18:48:04</td>     <th>  Log-Likelihood:    </th> <td> -296.17</td>\n",
       "</tr>\n",
       "<tr>\n",
       "  <th>No. Observations:</th>      <td>   116</td>      <th>  AIC:               </th> <td>   596.3</td>\n",
       "</tr>\n",
       "<tr>\n",
       "  <th>Df Residuals:</th>          <td>   114</td>      <th>  BIC:               </th> <td>   601.9</td>\n",
       "</tr>\n",
       "<tr>\n",
       "  <th>Df Model:</th>              <td>     1</td>      <th>                     </th>     <td> </td>   \n",
       "</tr>\n",
       "<tr>\n",
       "  <th>Covariance Type:</th>      <td>nonrobust</td>    <th>                     </th>     <td> </td>   \n",
       "</tr>\n",
       "</table>\n",
       "<table class=\"simpletable\">\n",
       "<tr>\n",
       "         <td></td>            <th>coef</th>     <th>std err</th>      <th>t</th>      <th>P>|t|</th>  <th>[0.025</th>    <th>0.975]</th>  \n",
       "</tr>\n",
       "<tr>\n",
       "  <th>Intercept</th>       <td>   35.5780</td> <td>    0.810</td> <td>   43.938</td> <td> 0.000</td> <td>   33.974</td> <td>   37.182</td>\n",
       "</tr>\n",
       "<tr>\n",
       "  <th>temp.result_num</th> <td>   -1.8949</td> <td>    0.868</td> <td>   -2.184</td> <td> 0.031</td> <td>   -3.614</td> <td>   -0.176</td>\n",
       "</tr>\n",
       "</table>\n",
       "<table class=\"simpletable\">\n",
       "<tr>\n",
       "  <th>Omnibus:</th>       <td> 0.045</td> <th>  Durbin-Watson:     </th> <td>   1.730</td>\n",
       "</tr>\n",
       "<tr>\n",
       "  <th>Prob(Omnibus):</th> <td> 0.978</td> <th>  Jarque-Bera (JB):  </th> <td>   0.176</td>\n",
       "</tr>\n",
       "<tr>\n",
       "  <th>Skew:</th>          <td> 0.030</td> <th>  Prob(JB):          </th> <td>   0.916</td>\n",
       "</tr>\n",
       "<tr>\n",
       "  <th>Kurtosis:</th>      <td> 2.819</td> <th>  Cond. No.          </th> <td>    5.39</td>\n",
       "</tr>\n",
       "</table><br/><br/>Warnings:<br/>[1] Standard Errors assume that the covariance matrix of the errors is correctly specified."
      ],
      "text/plain": [
       "<class 'statsmodels.iolib.summary.Summary'>\n",
       "\"\"\"\n",
       "                            OLS Regression Results                            \n",
       "==============================================================================\n",
       "Dep. Variable:           temp.feb_avg   R-squared:                       0.040\n",
       "Model:                            OLS   Adj. R-squared:                  0.032\n",
       "Method:                 Least Squares   F-statistic:                     4.768\n",
       "Date:                Tue, 28 May 2019   Prob (F-statistic):             0.0310\n",
       "Time:                        18:48:04   Log-Likelihood:                -296.17\n",
       "No. Observations:                 116   AIC:                             596.3\n",
       "Df Residuals:                     114   BIC:                             601.9\n",
       "Df Model:                           1                                         \n",
       "Covariance Type:            nonrobust                                         \n",
       "===================================================================================\n",
       "                      coef    std err          t      P>|t|      [0.025      0.975]\n",
       "-----------------------------------------------------------------------------------\n",
       "Intercept          35.5780      0.810     43.938      0.000      33.974      37.182\n",
       "temp.result_num    -1.8949      0.868     -2.184      0.031      -3.614      -0.176\n",
       "==============================================================================\n",
       "Omnibus:                        0.045   Durbin-Watson:                   1.730\n",
       "Prob(Omnibus):                  0.978   Jarque-Bera (JB):                0.176\n",
       "Skew:                           0.030   Prob(JB):                        0.916\n",
       "Kurtosis:                       2.819   Cond. No.                         5.39\n",
       "==============================================================================\n",
       "\n",
       "Warnings:\n",
       "[1] Standard Errors assume that the covariance matrix of the errors is correctly specified.\n",
       "\"\"\""
      ]
     },
     "execution_count": 100,
     "metadata": {},
     "output_type": "execute_result"
    }
   ],
   "source": [
    "# Regression model for feb avg temp as a function of the groundhog's shadow\n",
    "\n",
    "formula = 'temp.feb_avg ~ temp.result_num'\n",
    "model = smf.ols(formula, data = temp)\n",
    "results = model.fit()\n",
    "results.summary()"
   ]
  },
  {
   "cell_type": "code",
   "execution_count": 101,
   "metadata": {},
   "outputs": [
    {
     "data": {
      "text/html": [
       "<table class=\"simpletable\">\n",
       "<caption>OLS Regression Results</caption>\n",
       "<tr>\n",
       "  <th>Dep. Variable:</th>      <td>temp.mar_avg</td>   <th>  R-squared:         </th> <td>   0.022</td>\n",
       "</tr>\n",
       "<tr>\n",
       "  <th>Model:</th>                   <td>OLS</td>       <th>  Adj. R-squared:    </th> <td>   0.014</td>\n",
       "</tr>\n",
       "<tr>\n",
       "  <th>Method:</th>             <td>Least Squares</td>  <th>  F-statistic:       </th> <td>   2.577</td>\n",
       "</tr>\n",
       "<tr>\n",
       "  <th>Date:</th>             <td>Tue, 28 May 2019</td> <th>  Prob (F-statistic):</th>  <td> 0.111</td> \n",
       "</tr>\n",
       "<tr>\n",
       "  <th>Time:</th>                 <td>18:48:04</td>     <th>  Log-Likelihood:    </th> <td> -288.12</td>\n",
       "</tr>\n",
       "<tr>\n",
       "  <th>No. Observations:</th>      <td>   116</td>      <th>  AIC:               </th> <td>   580.2</td>\n",
       "</tr>\n",
       "<tr>\n",
       "  <th>Df Residuals:</th>          <td>   114</td>      <th>  BIC:               </th> <td>   585.8</td>\n",
       "</tr>\n",
       "<tr>\n",
       "  <th>Df Model:</th>              <td>     1</td>      <th>                     </th>     <td> </td>   \n",
       "</tr>\n",
       "<tr>\n",
       "  <th>Covariance Type:</th>      <td>nonrobust</td>    <th>                     </th>     <td> </td>   \n",
       "</tr>\n",
       "</table>\n",
       "<table class=\"simpletable\">\n",
       "<tr>\n",
       "         <td></td>            <th>coef</th>     <th>std err</th>      <th>t</th>      <th>P>|t|</th>  <th>[0.025</th>    <th>0.975]</th>  \n",
       "</tr>\n",
       "<tr>\n",
       "  <th>Intercept</th>       <td>   42.9660</td> <td>    0.755</td> <td>   56.875</td> <td> 0.000</td> <td>   41.469</td> <td>   44.463</td>\n",
       "</tr>\n",
       "<tr>\n",
       "  <th>temp.result_num</th> <td>   -1.2998</td> <td>    0.810</td> <td>   -1.605</td> <td> 0.111</td> <td>   -2.904</td> <td>    0.304</td>\n",
       "</tr>\n",
       "</table>\n",
       "<table class=\"simpletable\">\n",
       "<tr>\n",
       "  <th>Omnibus:</th>       <td> 0.570</td> <th>  Durbin-Watson:     </th> <td>   1.950</td>\n",
       "</tr>\n",
       "<tr>\n",
       "  <th>Prob(Omnibus):</th> <td> 0.752</td> <th>  Jarque-Bera (JB):  </th> <td>   0.392</td>\n",
       "</tr>\n",
       "<tr>\n",
       "  <th>Skew:</th>          <td> 0.142</td> <th>  Prob(JB):          </th> <td>   0.822</td>\n",
       "</tr>\n",
       "<tr>\n",
       "  <th>Kurtosis:</th>      <td> 3.031</td> <th>  Cond. No.          </th> <td>    5.39</td>\n",
       "</tr>\n",
       "</table><br/><br/>Warnings:<br/>[1] Standard Errors assume that the covariance matrix of the errors is correctly specified."
      ],
      "text/plain": [
       "<class 'statsmodels.iolib.summary.Summary'>\n",
       "\"\"\"\n",
       "                            OLS Regression Results                            \n",
       "==============================================================================\n",
       "Dep. Variable:           temp.mar_avg   R-squared:                       0.022\n",
       "Model:                            OLS   Adj. R-squared:                  0.014\n",
       "Method:                 Least Squares   F-statistic:                     2.577\n",
       "Date:                Tue, 28 May 2019   Prob (F-statistic):              0.111\n",
       "Time:                        18:48:04   Log-Likelihood:                -288.12\n",
       "No. Observations:                 116   AIC:                             580.2\n",
       "Df Residuals:                     114   BIC:                             585.8\n",
       "Df Model:                           1                                         \n",
       "Covariance Type:            nonrobust                                         \n",
       "===================================================================================\n",
       "                      coef    std err          t      P>|t|      [0.025      0.975]\n",
       "-----------------------------------------------------------------------------------\n",
       "Intercept          42.9660      0.755     56.875      0.000      41.469      44.463\n",
       "temp.result_num    -1.2998      0.810     -1.605      0.111      -2.904       0.304\n",
       "==============================================================================\n",
       "Omnibus:                        0.570   Durbin-Watson:                   1.950\n",
       "Prob(Omnibus):                  0.752   Jarque-Bera (JB):                0.392\n",
       "Skew:                           0.142   Prob(JB):                        0.822\n",
       "Kurtosis:                       3.031   Cond. No.                         5.39\n",
       "==============================================================================\n",
       "\n",
       "Warnings:\n",
       "[1] Standard Errors assume that the covariance matrix of the errors is correctly specified.\n",
       "\"\"\""
      ]
     },
     "execution_count": 101,
     "metadata": {},
     "output_type": "execute_result"
    }
   ],
   "source": [
    "# Regression model for mar avg temp as a function of the groundhog's shadow\n",
    "\n",
    "formula = 'temp.mar_avg ~ temp.result_num'\n",
    "model = smf.ols(formula, data = temp)\n",
    "results = model.fit()\n",
    "results.summary()"
   ]
  },
  {
   "cell_type": "code",
   "execution_count": null,
   "metadata": {},
   "outputs": [],
   "source": []
  }
 ],
 "metadata": {
  "kernelspec": {
   "display_name": "Python 3",
   "language": "python",
   "name": "python3"
  },
  "language_info": {
   "codemirror_mode": {
    "name": "ipython",
    "version": 3
   },
   "file_extension": ".py",
   "mimetype": "text/x-python",
   "name": "python",
   "nbconvert_exporter": "python",
   "pygments_lexer": "ipython3",
   "version": "3.7.1"
  }
 },
 "nbformat": 4,
 "nbformat_minor": 2
}
